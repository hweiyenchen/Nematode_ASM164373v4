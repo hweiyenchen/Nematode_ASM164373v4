{
 "cells": [
  {
   "cell_type": "markdown",
   "id": "bfee5029",
   "metadata": {},
   "source": [
    "# 0_settings\n"
   ]
  },
  {
   "cell_type": "code",
   "execution_count": null,
   "id": "16eae8cc",
   "metadata": {},
   "outputs": [],
   "source": [
    "HOME_DIRECTORY=/gpfs/home/wwh23wcu\n",
    "SCRATCH_DIRECTORY=/gpfs/scratch/wwh23wcu\n",
    "FILE_DIRECTORY=/gpfs/data/justin_rna/Hwei-yen\n",
    "\n",
    "mkdir $HOME_DIRECTORY/scripts\n",
    "\n",
    "mkdir $SCRATCH_DIRECTORY/job_output\n",
    "mkdir $SCRATCH_DIRECTORY/job_output/prepare_ref/\n",
    "mkdir $SCRATCH_DIRECTORY/job_output/trimming/\n",
    "mkdir $SCRATCH_DIRECTORY/job_output/bwa_mem/\n",
    "mkdir $SCRATCH_DIRECTORY/job_output/samtools_sort/\n",
    "mkdir $SCRATCH_DIRECTORY/job_output/samtools_view/\n",
    "mkdir $SCRATCH_DIRECTORY/job_output/MarkDuplicates/\n",
    "mkdir $SCRATCH_DIRECTORY/job_output/AddOrReplaceReadGroups/\n",
    "mkdir $SCRATCH_DIRECTORY/job_output/samtools_index/\n",
    "mkdir $SCRATCH_DIRECTORY/job_output/HaplotypeCaller/\n",
    "mkdir $SCRATCH_DIRECTORY/job_output/GenomicsDBImport/\n",
    "mkdir $SCRATCH_DIRECTORY/job_output/GenotypeGVCFs/\n",
    "mkdir $SCRATCH_DIRECTORY/job_output/bcftools_annotate/\n",
    "mkdir $SCRATCH_DIRECTORY/job_output/DP_range/\n",
    "mkdir $SCRATCH_DIRECTORY/job_output/SelectVariants_SNP/\n",
    "mkdir $SCRATCH_DIRECTORY/job_output/bcftools_split/\n",
    "mkdir $SCRATCH_DIRECTORY/job_output/bcftools_DP/\n",
    "mkdir $SCRATCH_DIRECTORY/job_output/VariantFiltration/\n",
    "mkdir $SCRATCH_DIRECTORY/job_output/callability\n",
    "mkdir $SCRATCH_DIRECTORY/job_output/samtools_merge/\n",
    "mkdir $SCRATCH_DIRECTORY/job_output/accuMUlate/\n",
    "mkdir $SCRATCH_DIRECTORY/job_output/de_novo_mutation/\n",
    "\n",
    "mkdir $SCRATCH_DIRECTORY/ref_fasta/\n",
    "mkdir $SCRATCH_DIRECTORY/fastq_files/\n",
    "mkdir $SCRATCH_DIRECTORY/trimmed_seq/\n",
    "mkdir $SCRATCH_DIRECTORY/bam_files/\n",
    "mkdir $HOME_DIRECTORY/vcf_files/\n",
    "mkdir $HOME_DIRECTORY/vcf_handling/\n",
    "mkdir $HOME_DIRECTORY/vcf_handling/callability/\n",
    "mkdir $HOME_DIRECTORY/vcf_handling/callability/T1/\n",
    "mkdir $HOME_DIRECTORY/vcf_handling/callability/T2/\n",
    "mkdir $HOME_DIRECTORY/vcf_handling/callability/T5/\n",
    "mkdir $HOME_DIRECTORY/vcf_handling/GenomicsDBImport_database/\n",
    "mkdir $HOME_DIRECTORY/vcf_handling/GenomicsDBImport_temp/\n",
    "mkdir $HOME_DIRECTORY/vcf_handling/GenomicsDBImport_temp/T1_temp\n",
    "mkdir $HOME_DIRECTORY/vcf_handling/GenomicsDBImport_temp/T2_temp\n",
    "mkdir $HOME_DIRECTORY/vcf_handling/GenomicsDBImport_temp/T5_temp\n",
    "mkdir $HOME_DIRECTORY/vcf_handling/GenotypeGVCFs/\n",
    "mkdir $HOME_DIRECTORY/vcf_handling/bcftools_annotate/\n",
    "mkdir $HOME_DIRECTORY/vcf_handling/SelectVariants_SNP/\n",
    "mkdir $HOME_DIRECTORY/vcf_handling/bcftools_DP/\n",
    "mkdir $HOME_DIRECTORY/vcf_handling/bcftools_DP/T1/\n",
    "mkdir $HOME_DIRECTORY/vcf_handling/bcftools_DP/T2/\n",
    "mkdir $HOME_DIRECTORY/vcf_handling/bcftools_DP/T5/\n",
    "mkdir $HOME_DIRECTORY/vcf_handling/VariantFiltration/\n",
    "mkdir $HOME_DIRECTORY/de_novo_mutation/\n",
    "mkdir $HOME_DIRECTORY/accuMUlate/"
   ]
  },
  {
   "cell_type": "markdown",
   "id": "0de37d62",
   "metadata": {},
   "source": [
    "# 1_trimming\n"
   ]
  },
  {
   "cell_type": "markdown",
   "id": "0edc00dd",
   "metadata": {},
   "source": [
    "# 2_mapping"
   ]
  },
  {
   "cell_type": "markdown",
   "id": "00cf9c33",
   "metadata": {},
   "source": [
    "# 3_variant_calling"
   ]
  },
  {
   "cell_type": "markdown",
   "id": "52421804",
   "metadata": {},
   "source": [
    "# 4_ "
   ]
  }
 ],
 "metadata": {
  "kernelspec": {
   "display_name": "Bash",
   "language": "bash",
   "name": "bash"
  }
 },
 "nbformat": 4,
 "nbformat_minor": 5
}
