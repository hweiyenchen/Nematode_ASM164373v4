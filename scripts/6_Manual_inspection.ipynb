{
 "cells": [
  {
   "cell_type": "markdown",
   "id": "5d63d482-7fe5-45c4-9545-0428493c7296",
   "metadata": {},
   "source": [
    "<a id=\"52\"></a> \n",
    "# Manual inspection"
   ]
  },
  {
   "cell_type": "markdown",
   "id": "1130b60c-a49d-437f-9edb-754a0593ed9b",
   "metadata": {},
   "source": [
    "<a id=\"53\"></a> \n",
    "## Merge and annotate the bed files from both approaches for each sample"
   ]
  },
  {
   "cell_type": "code",
   "execution_count": null,
   "id": "3229b1a9-a821-4003-b4f5-ca3d13a65fce",
   "metadata": {},
   "outputs": [],
   "source": [
    "HOME_DIRECTORY=/gpfs/home/wwh23wcu\n",
    "SCRATCH_DIRECTORY=/gpfs/scratch/wwh23wcu\n",
    "\n",
    "less $HOME_DIRECTORY/regime_sample | while read a b; do echo \"\n",
    "awk '\\$5 = \\\"consensus\\\" {print \\$1\\\" \\\"\\$2\\\" \\\"\\$3\\\" \\\"\\$4\\\" \\\"\\$5}' $HOME_DIRECTORY/de_novo_mutation/bed/\"$b\"_consensus_bed > $HOME_DIRECTORY/de_novo_mutation/bed/\"$b\"_consensus_bed_temp\n",
    "awk '\\$5 = \\\"probabilistic\\\" {print \\$1\\\" \\\"\\$2\\\" \\\"\\$3\\\" \\\"\\$4\\\" \\\"\\$5}' $HOME_DIRECTORY/de_novo_mutation/bed/\"$b\"_probabilistic_bed > $HOME_DIRECTORY/de_novo_mutation/bed/\"$b\"_probabilistic_bed_temp\n",
    "\n",
    "cat $HOME_DIRECTORY/de_novo_mutation/bed/\"$b\"_consensus_bed_temp $HOME_DIRECTORY/de_novo_mutation/bed/\"$b\"_probabilistic_bed_temp > $HOME_DIRECTORY/de_novo_mutation/bed/\"$b\"_bed_temp\n",
    "\n",
    "sort $HOME_DIRECTORY/de_novo_mutation/bed/\"$b\"_bed_temp > $HOME_DIRECTORY/de_novo_mutation/bed/manual_inspection/\"$b\"_bed_before_manual_inspection\n",
    "\n",
    "rm $HOME_DIRECTORY/de_novo_mutation/bed/*_temp\n",
    "\"; done > $HOME_DIRECTORY/scripts/prepare_bed_files\n",
    "\n",
    "sh -e $HOME_DIRECTORY/scripts/prepare_bed_files\n"
   ]
  },
  {
   "cell_type": "markdown",
   "id": "4ea72767-05a7-41f2-b4e9-afa112673f41",
   "metadata": {},
   "source": [
    "<a id=\"54\"></a> \n",
    "## Derive single-sample vcf\n",
    "This script splits the multi-sample vcf derived from joint genotyping to six single-sample vcf"
   ]
  },
  {
   "cell_type": "code",
   "execution_count": null,
   "id": "5cbda886-0dbc-4705-9304-e6c5b91d569e",
   "metadata": {},
   "outputs": [],
   "source": [
    "HOME_DIRECTORY=/gpfs/home/wwh23wcu\n",
    "SCRATCH_DIRECTORY=/gpfs/scratch/wwh23wcu\n",
    "\n",
    "REF_FASTA=$SCRATCH_DIRECTORY/ref_fasta/GCA_001643735.4_ASM164373v4_genomic.fna.gz\n",
    "JOB_OUTPUT=$SCRATCH_DIRECTORY/job_output/bcftools_split\n",
    "JOB_NAME=bcftools_split\n",
    "\n",
    "echo '#!/bin/bash -e\n",
    "#SBATCH --mail-type=ALL #Mail events (NONE, BEGIN, END, FAIL, ALL) \n",
    "#SBATCH --mail-user=papilio.chen@gmail.com #Where to send mail\n",
    "#SBATCH -p compute-24-96\n",
    "#SBATCH --mem=3G\n",
    "#SBATCH --time=0-04:00\n",
    "#SBATCH --job-name='$JOB_NAME'\n",
    "#SBATCH -o '$JOB_OUTPUT'/'$JOB_NAME'-%j.out\n",
    "#SBATCH -e '$JOB_OUTPUT'/'$JOB_NAME'-%j.err\n",
    "\n",
    "#ABOVE THIS LINE ARE THE SLURM DIRECTIVES\n",
    "#BELOW THIS LINE ARE THE COMMANDS TO RUN YOUR JOB\n",
    "\n",
    "regime=$1\n",
    "\n",
    "module load bcftools/1.15.1\n",
    "module load htslib/1.15.1\n",
    "\n",
    "bcftools +split '$HOME_DIRECTORY'/vcf_handling/GenotypeGVCFs/$(basename $regime)_GenotypeGVCFs.g.vcf.gz -O z -o '$HOME_DIRECTORY'/de_novo_mutation/bed/manual_inspection/\n",
    "\n",
    "' > $HOME_DIRECTORY/scripts/bcftools_split.sh\n",
    "\n",
    "\n",
    "less $HOME_DIRECTORY/regime_list | while read a; do printf \"\n",
    "sbatch $HOME_DIRECTORY/scripts/bcftools_split.sh \"$a\"\n",
    "\"; done > $HOME_DIRECTORY/scripts/bcftools_split_submit_jobs\n",
    "\n",
    "# sh -e $HOME_DIRECTORY/scripts/bcftools_split_submit_jobs\n"
   ]
  },
  {
   "cell_type": "markdown",
   "id": "4f137ec4-2e19-46c1-bde7-51966f9796d1",
   "metadata": {},
   "source": [
    "<a id=\"55\"></a> \n",
    "## Index single-sample vcf\n",
    "This script indexes the single-sample vcf files"
   ]
  },
  {
   "cell_type": "code",
   "execution_count": null,
   "id": "51c27892-0a34-4d6b-8496-57da0a97ade5",
   "metadata": {},
   "outputs": [],
   "source": [
    "HOME_DIRECTORY=/gpfs/home/wwh23wcu\n",
    "SCRATCH_DIRECTORY=/gpfs/scratch/wwh23wcu\n",
    "\n",
    "REF_FASTA=$SCRATCH_DIRECTORY/ref_fasta/GCA_001643735.4_ASM164373v4_genomic.fna.gz\n",
    "JOB_OUTPUT=$SCRATCH_DIRECTORY/job_output/bcftools_split\n",
    "JOB_NAME=bcftools_split_tabix\n",
    "\n",
    "echo '#!/bin/bash -e\n",
    "#SBATCH --mail-type=ALL #Mail events (NONE, BEGIN, END, FAIL, ALL) \n",
    "#SBATCH --mail-user=papilio.chen@gmail.com #Where to send mail\n",
    "#SBATCH -p compute-24-96\n",
    "#SBATCH --mem=3G\n",
    "#SBATCH --time=0-04:00\n",
    "#SBATCH --job-name='$JOB_NAME'\n",
    "#SBATCH -o '$JOB_OUTPUT'/'$JOB_NAME'-%j.out\n",
    "#SBATCH -e '$JOB_OUTPUT'/'$JOB_NAME'-%j.err\n",
    "\n",
    "#ABOVE THIS LINE ARE THE SLURM DIRECTIVES\n",
    "#BELOW THIS LINE ARE THE COMMANDS TO RUN YOUR JOB\n",
    "\n",
    "regime=$1\n",
    "sample_ID=$2\n",
    "\n",
    "module load bcftools/1.15.1\n",
    "module load htslib/1.15.1\n",
    "\n",
    "tabix -p vcf '$HOME_DIRECTORY'/de_novo_mutation/bed/manual_inspection/$(basename $sample_ID).vcf.gz\n",
    "\n",
    "' > $HOME_DIRECTORY/scripts/bcftools_split_tabix.sh\n",
    "\n",
    "\n",
    "less $HOME_DIRECTORY/regime_sample_field_for_DP | while read a b c; do printf \"\n",
    "sbatch $HOME_DIRECTORY/scripts/bcftools_split_tabix.sh \"$a\" \"$b\"\n",
    "\"; done > $HOME_DIRECTORY/scripts/bcftools_split_tabix_submit_jobs\n",
    "\n",
    "# sh -e $HOME_DIRECTORY/scripts/bcftools_split_tabix_submit_jobs\n"
   ]
  },
  {
   "cell_type": "markdown",
   "id": "9e7acaad-7014-4324-9c78-e86789489456",
   "metadata": {},
   "source": [
    "<a id=\"56\"></a> \n",
    "## Files needed for manual inspection\n",
    "\n",
    "Files needed for manual inspection include:\n",
    "1 and 2: the reference assembly;\n",
    "3 and 4: bam and bai files for each sample;\n",
    "5 and 6: single-sample vcf and its index for each sample;\n",
    "7: bed files containing the coordination for each candidate germline mutation for each sample.\n",
    "\n",
    "1. /gpfs/scratch/wwh23wcu/ref_fasta/GCA_001643735.4_ASM164373v4_genomic.fna\n",
    "2. /gpfs/scratch/wwh23wcu/ref_fasta/GCA_001643735.4_ASM164373v4_genomic.fna.fai\n",
    "3. /gpfs/scratch/wwh23wcu/bam_files/*_viewed_marked_addg.bam \n",
    "4. /gpfs/scratch/wwh23wcu/bam_files/*_viewed_marked_addg.bam.bai\n",
    "5. /gpfs/home/wwh23wcu/de_novo_mutation/bed/manual_inspection/*.vcf.gz\n",
    "6. /gpfs/home/wwh23wcu/de_novo_mutation/bed/manual_inspection/*.vcf.gz.tbi\n",
    "7. /gpfs/home/wwh23wcu/de_novo_mutation/bed/manual_inspection/*_bed_before_manual_inspection\n",
    "\n",
    "For each sample, load the reference assembly and the vcf in IGV; then load the bam files for all samples of the same regime in IGV. Manually inspect individual candidate germline mutation and annotate 'ACCEPTED' or 'REJECTED' in the bed file. When finished, save the bed file as sampleID_bed_after_manual_inspection, and upload it to /gpfs/home/wwh23wcu/de_novo_mutation/bed/manual_inspection/."
   ]
  },
  {
   "cell_type": "markdown",
   "id": "40f7279a-fb4a-4ea1-bfe5-18b8bba4f1c7",
   "metadata": {},
   "source": [
    "<a id=\"57\"></a> \n",
    "# Find overlapping variants"
   ]
  },
  {
   "cell_type": "code",
   "execution_count": null,
   "id": "14105806-3f28-4641-804a-506b2c973af9",
   "metadata": {},
   "outputs": [],
   "source": [
    "HOME_DIRECTORY=/gpfs/home/wwh23wcu\n",
    "SCRATCH_DIRECTORY=/gpfs/scratch/wwh23wcu\n",
    "\n",
    "less $HOME_DIRECTORY/regime_sample | while read a b; do echo \"\n",
    "awk '{print \\$1\\\" \\\"\\$2\\\" \\\"\\$3\\\" \\\"\\$4}' $HOME_DIRECTORY/de_novo_mutation/bed/manual_inspection/\"$b\"_bed_after_manual_inspection | sort | uniq -d > $HOME_DIRECTORY/de_novo_mutation/\"$b\"_bed_after_manual_inspection_overlapping\n",
    "\"; done > $HOME_DIRECTORY/scripts/find_overlapping_variants"
   ]
  },
  {
   "cell_type": "markdown",
   "id": "4e8639be-f4c4-47bd-80cc-a0a39568814a",
   "metadata": {},
   "source": [
    "<a id=\"58\"></a> \n",
    "# Aggregate the results\n",
    "This script aggregates callability and the number of accepted germline mutations for each sample."
   ]
  },
  {
   "cell_type": "code",
   "execution_count": null,
   "id": "74989342-1740-45ad-a018-da93ae4d3b7a",
   "metadata": {},
   "outputs": [],
   "source": [
    "HOME_DIRECTORY=/gpfs/home/wwh23wcu\n",
    "SCRATCH_DIRECTORY=/gpfs/scratch/wwh23wcu\n",
    "\n",
    "paste -d ' ' $HOME_DIRECTORY/regime_list $HOME_DIRECTORY/de_novo_mutation/consensus_approach_callability_regime > $HOME_DIRECTORY/de_novo_mutation/consensus_approach_callability_regime_temp && mv $HOME_DIRECTORY/de_novo_mutation/consensus_approach_callability_regime_temp $HOME_DIRECTORY/de_novo_mutation/consensus_approach_callability_regime\n",
    "\n",
    "perl -ne 'print $_ x 36' $HOME_DIRECTORY/de_novo_mutation/consensus_approach_callability_regime > $HOME_DIRECTORY/de_novo_mutation/consensus_approach_callability_regime_temp\n",
    "\n",
    "paste -d ' ' $HOME_DIRECTORY/de_novo_mutation/consensus_approach_callability_regime_temp $HOME_DIRECTORY/de_novo_mutation/consensus_approach_number_GM > $HOME_DIRECTORY/de_novo_mutation/consensus_approach_results_temp\n",
    "\n",
    "awk '{$6=\"\"; print $0}' $HOME_DIRECTORY/de_novo_mutation/consensus_approach_results_temp > $HOME_DIRECTORY/de_novo_mutation/consensus_approach_results\n",
    "\n",
    "\n",
    "rm $HOME_DIRECTORY/de_novo_mutation/consensus_approach_callability_regime_temp\n",
    "rm $HOME_DIRECTORY/de_novo_mutation/consensus_approach_results_temp"
   ]
  }
 ],
 "metadata": {
  "kernelspec": {
   "display_name": "Bash",
   "language": "bash",
   "name": "bash"
  },
  "language_info": {
   "name": ""
  }
 },
 "nbformat": 4,
 "nbformat_minor": 5
}
