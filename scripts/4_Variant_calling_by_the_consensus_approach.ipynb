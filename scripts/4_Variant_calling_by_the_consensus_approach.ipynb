{
 "cells": [
  {
   "cell_type": "markdown",
   "id": "ef8a884f-dcd3-4658-ad8e-9d6ea330e441",
   "metadata": {
    "tags": []
   },
   "source": [
    "<a id=\"19\"></a> \n",
    "# Variant calling by the consensus approach"
   ]
  },
  {
   "cell_type": "markdown",
   "id": "1499b0fa-7103-4c82-b4d4-9e26c034a9f3",
   "metadata": {
    "tags": []
   },
   "source": [
    "<a id=\"20\"></a> \n",
    "## Variant calling"
   ]
  },
  {
   "cell_type": "markdown",
   "id": "aa428ae0-4d34-467b-ab9f-f319f40ffde9",
   "metadata": {
    "tags": []
   },
   "source": [
    "<a id=\"21\"></a> \n",
    "### Call variants\n",
    "This script uses the GATK HaplotypeCaller tool to generate a single-sample vcf for each sample."
   ]
  },
  {
   "cell_type": "code",
   "execution_count": null,
   "id": "fc38783a-591c-4b9e-b9f4-65260761625a",
   "metadata": {
    "tags": []
   },
   "outputs": [],
   "source": [
    "HOME_DIRECTORY=/gpfs/home/wwh23wcu\n",
    "SCRATCH_DIRECTORY=/gpfs/scratch/wwh23wcu\n",
    "\n",
    "REF_FASTA=$SCRATCH_DIRECTORY/ref_fasta/GCA_001643735.4_ASM164373v4_genomic.fna.gz\n",
    "JOB_OUTPUT=$SCRATCH_DIRECTORY/job_output/HaplotypeCaller\n",
    "JOB_NAME=HaplotypeCaller\n",
    "\n",
    "\n",
    "echo '#!/bin/bash -e\n",
    "#SBATCH --mail-type=ALL #Mail events (NONE, BEGIN, END, FAIL, ALL) \n",
    "#SBATCH --mail-user=papilio.chen@gmail.com #Where to send mail\n",
    "#SBATCH -p compute-24-96\n",
    "#SBATCH --mem=30G\n",
    "#SBATCH --time=6-00:00\n",
    "#SBATCH --job-name='$JOB_NAME'\n",
    "#SBATCH -o '$JOB_OUTPUT'/'$JOB_NAME'-%j.out\n",
    "#SBATCH -e '$JOB_OUTPUT'/'$JOB_NAME'-%j.err\n",
    "\n",
    "#ABOVE THIS LINE ARE THE SLURM DIRECTIVES\n",
    "#BELOW THIS LINE ARE THE COMMANDS TO RUN YOUR JOB\n",
    "\n",
    "input_file=$1\n",
    "\n",
    "module load java/jdk1.8.0_231\n",
    "module load GATK/4.9.1\n",
    "\n",
    "gatk HaplotypeCaller -R '$REF_FASTA' -I '$SCRATCH_DIRECTORY'/bam_files/$(basename $input_file)_viewed_marked_addg.bam -O '$HOME_DIRECTORY'/vcf_files/$(basename $input_file).g.vcf.gz -ploidy 2 -ERC BP_RESOLUTION --dont-use-soft-clipped-bases\n",
    "\n",
    "' > $HOME_DIRECTORY/scripts/HaplotypeCaller.sh\n",
    "\n",
    "\n",
    "\n",
    "less $HOME_DIRECTORY/fastq_list | while read a b c; do printf \"\n",
    "sbatch $HOME_DIRECTORY/scripts/HaplotypeCaller.sh \"$c\"\n",
    "\"; done > $HOME_DIRECTORY/scripts/HaplotypeCaller_submit_jobs\n",
    "\n",
    "# sh -e $HOME_DIRECTORY/scripts/HaplotypeCaller_submit_jobs\n"
   ]
  },
  {
   "cell_type": "markdown",
   "id": "bf058814-4bb9-4c0d-9c80-cf1a05d7fd58",
   "metadata": {
    "tags": []
   },
   "source": [
    "<a id=\"22\"></a> \n",
    "### Import variants to a GenomicsDB\n",
    "This script uses the GATK GenomicsDBImport tool to import single-sample vcfs into a GenomicsDB before joint genotyping. Specifically, single-sample vcfs of the same regime are imported into a GenomicsDB (six single-sample vcfs per regime); total three GenomicsDBs, corresponding to the three regimes (T1, T2, T5), are generated."
   ]
  },
  {
   "cell_type": "code",
   "execution_count": null,
   "id": "4f05b06e-2a73-4853-9e75-692eab3e9ce6",
   "metadata": {
    "tags": []
   },
   "outputs": [],
   "source": [
    "HOME_DIRECTORY=/gpfs/home/wwh23wcu\n",
    "SCRATCH_DIRECTORY=/gpfs/scratch/wwh23wcu\n",
    "\n",
    "REF_FASTA=$SCRATCH_DIRECTORY/ref_fasta/GCA_001643735.4_ASM164373v4_genomic.fna.gz\n",
    "REF_FASTA_INTERVALS=$SCRATCH_DIRECTORY/ref_fasta/GCA_001643735.4_ASM164373v4_genomic.fna.gz_contigs.intervals\n",
    "JOB_OUTPUT=$SCRATCH_DIRECTORY/job_output/GenomicsDBImport\n",
    "JOB_NAME=GenomicsDBImport\n",
    "\n",
    "\n",
    "echo '#!/bin/bash -e\n",
    "#SBATCH --mail-type=ALL #Mail events (NONE, BEGIN, END, FAIL, ALL) \n",
    "#SBATCH --mail-user=papilio.chen@gmail.com #Where to send mail\n",
    "#SBATCH -p compute-24-96\n",
    "#SBATCH --mem=80G\n",
    "#SBATCH --time=0-24:00\n",
    "#SBATCH --job-name='$JOB_NAME'\n",
    "#SBATCH -o '$JOB_OUTPUT'/'$JOB_NAME'-%j.out\n",
    "#SBATCH -e '$JOB_OUTPUT'/'$JOB_NAME'-%j.err\n",
    "\n",
    "#ABOVE THIS LINE ARE THE SLURM DIRECTIVES\n",
    "#BELOW THIS LINE ARE THE COMMANDS TO RUN YOUR JOB\n",
    "\n",
    "regime=$1\n",
    "\n",
    "module load java/jdk1.8.0_231\n",
    "module load GATK/4.9.1\n",
    "\n",
    "gatk GenomicsDBImport --genomicsdb-workspace-path '$HOME_DIRECTORY'/vcf_handling/GenomicsDBImport_database/$(basename $regime)_database --tmp-dir '$HOME_DIRECTORY'/vcf_handling/GenomicsDBImport_temp/$(basename $regime)_temp --batch-size 10 --sample-name-map '$HOME_DIRECTORY'/$(basename $regime)_sample_map --reader-threads 10 -L '$REF_FASTA_INTERVALS' --showHidden True --merge-input-intervals True\n",
    "\n",
    "' > $HOME_DIRECTORY/scripts/GenomicsDBImport.sh\n",
    "\n",
    "\n",
    "\n",
    "less $HOME_DIRECTORY/regime_list | while read a; do printf \"\n",
    "sbatch $HOME_DIRECTORY/scripts/GenomicsDBImport.sh \"$a\"\n",
    "\"; done > $HOME_DIRECTORY/scripts/GenomicsDBImport_submit_jobs\n",
    "\n",
    "# sh -e $HOME_DIRECTORY/scripts/GenomicsDBImport_submit_jobs\n"
   ]
  },
  {
   "cell_type": "markdown",
   "id": "e1b18716-5bc9-4e91-b807-9f7631efbf65",
   "metadata": {
    "tags": []
   },
   "source": [
    "<a id=\"23\"></a> \n",
    "### Joint genotyping\n",
    "This script uses the GATK GenotypeGVCFs tool to performe joint genotype and produces a multi-sample vcf for each GenomicsDB (i.e. for each regime)."
   ]
  },
  {
   "cell_type": "code",
   "execution_count": null,
   "id": "1015c0c4-460f-42e7-8e0d-99d1d5caad21",
   "metadata": {
    "tags": []
   },
   "outputs": [],
   "source": [
    "HOME_DIRECTORY=/gpfs/home/wwh23wcu\n",
    "SCRATCH_DIRECTORY=/gpfs/scratch/wwh23wcu\n",
    "\n",
    "REF_FASTA=$SCRATCH_DIRECTORY/ref_fasta/GCA_001643735.4_ASM164373v4_genomic.fna.gz\n",
    "JOB_OUTPUT=$SCRATCH_DIRECTORY/job_output/GenotypeGVCFs\n",
    "JOB_NAME=GenotypeGVCFs\n",
    "\n",
    "\n",
    "echo '#!/bin/bash -e\n",
    "#SBATCH --mail-type=ALL #Mail events (NONE, BEGIN, END, FAIL, ALL) \n",
    "#SBATCH --mail-user=papilio.chen@gmail.com #Where to send mail\n",
    "#SBATCH -p compute-24-96\n",
    "#SBATCH --mem=30G\n",
    "#SBATCH --time=0-24:00\n",
    "#SBATCH --job-name='$JOB_NAME'\n",
    "#SBATCH -o '$JOB_OUTPUT'/'$JOB_NAME'-%j.out\n",
    "#SBATCH -e '$JOB_OUTPUT'/'$JOB_NAME'-%j.err\n",
    "\n",
    "#ABOVE THIS LINE ARE THE SLURM DIRECTIVES\n",
    "#BELOW THIS LINE ARE THE COMMANDS TO RUN YOUR JOB\n",
    "\n",
    "regime=$1\n",
    "\n",
    "module load java/jdk1.8.0_231\n",
    "module load GATK/4.9.1\n",
    "\n",
    "gatk GenotypeGVCFs -R '$REF_FASTA' -V gendb://'$HOME_DIRECTORY'/vcf_handling/GenomicsDBImport_database/$(basename $regime)_database -G StandardAnnotation -O '$HOME_DIRECTORY'/vcf_handling/GenotypeGVCFs/$(basename $regime)_GenotypeGVCFs.g.vcf.gz --include-non-variant-sites\n",
    "\n",
    "' > $HOME_DIRECTORY/scripts/GenotypeGVCFs.sh\n",
    "\n",
    "\n",
    "\n",
    "less $HOME_DIRECTORY/regime_list | while read a; do printf \"\n",
    "sbatch $HOME_DIRECTORY/scripts/GenotypeGVCFs.sh \"$a\"\n",
    "\"; done > $HOME_DIRECTORY/scripts/GenotypeGVCFs_submit_jobs\n",
    "\n",
    "# sh -e $HOME_DIRECTORY/scripts/GenotypeGVCFs_submit_jobs\n",
    "\n"
   ]
  },
  {
   "cell_type": "markdown",
   "id": "6dbd0190-624c-4592-a061-95500c4b0cdf",
   "metadata": {
    "tags": []
   },
   "source": [
    "<a id=\"24\"></a> \n",
    "## Derive the coverage limits for each sample\n",
    "This section calculates the mean coverage, as well as the uppler and lower coverage limits for each sample to facilitate [coverage filtering](#30)."
   ]
  },
  {
   "cell_type": "markdown",
   "id": "f2761ebb-ffa9-4106-8f8d-cd7d76d43cd3",
   "metadata": {
    "tags": []
   },
   "source": [
    "<a id=\"25\"></a> \n",
    "### Derive coverage for each site for each sample\n",
    "This script uses the bcftools annotate tool to derive the coverage (FORMAT/DP field) for each site for each sample"
   ]
  },
  {
   "cell_type": "code",
   "execution_count": null,
   "id": "e1dd0bc1-7c55-4e2d-81dc-feb07c865b6f",
   "metadata": {
    "tags": []
   },
   "outputs": [],
   "source": [
    "HOME_DIRECTORY=/gpfs/home/wwh23wcu\n",
    "SCRATCH_DIRECTORY=/gpfs/scratch/wwh23wcu\n",
    "\n",
    "REF_FASTA=$SCRATCH_DIRECTORY/ref_fasta/GCA_001643735.4_ASM164373v4_genomic.fna.gz\n",
    "JOB_OUTPUT=$SCRATCH_DIRECTORY/job_output/bcftools_annotate\n",
    "JOB_NAME=bcftools_annotate\n",
    "\n",
    "\n",
    "echo '#!/bin/bash -e\n",
    "#SBATCH --mail-type=ALL #Mail events (NONE, BEGIN, END, FAIL, ALL) \n",
    "#SBATCH --mail-user=papilio.chen@gmail.com #Where to send mail\n",
    "#SBATCH -p compute-24-96\n",
    "#SBATCH --mem=6G\n",
    "#SBATCH --time=0-24:00\n",
    "#SBATCH --job-name='$JOB_NAME'\n",
    "#SBATCH -o '$JOB_OUTPUT'/'$JOB_NAME'-%j.out\n",
    "#SBATCH -e '$JOB_OUTPUT'/'$JOB_NAME'-%j.err\n",
    "\n",
    "#ABOVE THIS LINE ARE THE SLURM DIRECTIVES\n",
    "#BELOW THIS LINE ARE THE COMMANDS TO RUN YOUR JOB\n",
    "\n",
    "regime=$1\n",
    "\n",
    "module load bcftools/1.15.1\n",
    "\n",
    "bcftools annotate -x ^FORMAT/DP '$HOME_DIRECTORY'/vcf_handling/GenotypeGVCFs/$(basename $regime)_GenotypeGVCFs.g.vcf.gz -o '$HOME_DIRECTORY'/vcf_handling/bcftools_annotate/$(basename $regime)_bcftools_annotate_DP\n",
    "\n",
    "' > $HOME_DIRECTORY/scripts/bcftools_annotate.sh\n",
    "\n",
    "\n",
    "\n",
    "less $HOME_DIRECTORY/regime_list | while read a; do printf \"\n",
    "sbatch $HOME_DIRECTORY/scripts/bcftools_annotate.sh \"$a\"\n",
    "\"; done > $HOME_DIRECTORY/scripts/bcftools_annotate_submit_jobs\n",
    "\n",
    "# sh -e $HOME_DIRECTORY/scripts/bcftools_annotate_submit_jobs\n"
   ]
  },
  {
   "cell_type": "markdown",
   "id": "65841c9a-be45-4eff-a253-0d220cd8dc2d",
   "metadata": {
    "tags": []
   },
   "source": [
    "<a id=\"26\"></a> \n",
    "### Calculate mean coverage across sites for each sample"
   ]
  },
  {
   "cell_type": "code",
   "execution_count": null,
   "id": "92713356-8766-427b-96fd-925b2ce5ddd9",
   "metadata": {
    "tags": []
   },
   "outputs": [],
   "source": [
    "## Derive mean DP for each sample\n",
    "\n",
    "HOME_DIRECTORY=/gpfs/home/wwh23wcu\n",
    "SCRATCH_DIRECTORY=/gpfs/scratch/wwh23wcu\n",
    "\n",
    "REF_FASTA=$SCRATCH_DIRECTORY/ref_fasta/GCA_001643735.4_ASM164373v4_genomic.fna.gz\n",
    "JOB_OUTPUT=$SCRATCH_DIRECTORY/job_output/DP_range\n",
    "JOB_NAME=DP_range\n",
    "\n",
    "echo '#!/bin/bash -e\n",
    "#SBATCH --mail-type=ALL #Mail events (NONE, BEGIN, END, FAIL, ALL) \n",
    "#SBATCH --mail-user=papilio.chen@gmail.com #Where to send mail\n",
    "#SBATCH -p compute-24-96\n",
    "#SBATCH --mem=3G\n",
    "#SBATCH --time=0-12:00\n",
    "#SBATCH --job-name='$JOB_NAME'\n",
    "#SBATCH -o '$JOB_OUTPUT'/'$JOB_NAME'-%j.out\n",
    "#SBATCH -e '$JOB_OUTPUT'/'$JOB_NAME'-%j.err\n",
    "\n",
    "#ABOVE THIS LINE ARE THE SLURM DIRECTIVES\n",
    "#BELOW THIS LINE ARE THE COMMANDS TO RUN YOUR JOB\n",
    "\n",
    "regime=$1\n",
    "sample_ID=$2\n",
    "field=$3\n",
    "\n",
    "sed '/^#/d' '$HOME_DIRECTORY'/vcf_handling/bcftools_annotate/$(basename $regime)_bcftools_annotate_DP | cut -f$field > '$HOME_DIRECTORY'/vcf_handling/bcftools_annotate/$(basename $sample_ID)_bcftools_annotate_DP \n",
    "\n",
    "awk '\"'\"'{ total += $1 } END { print total/NR }'\"'\"' '$HOME_DIRECTORY'/vcf_handling/bcftools_annotate/$(basename $sample_ID)_bcftools_annotate_DP  > '$HOME_DIRECTORY'/vcf_handling/bcftools_annotate/$(basename $sample_ID)_bcftools_annotate_DP_mean\n",
    "\n",
    "' > $HOME_DIRECTORY/scripts/DP_range.sh\n",
    "\n",
    "\n",
    "less $HOME_DIRECTORY/regime_sample_field_for_DP | while read a b c; do printf \"\n",
    "sbatch $HOME_DIRECTORY/scripts/DP_range.sh \"$a\" \"$b\" \"$c\"\n",
    "\"; done > $HOME_DIRECTORY/scripts/DP_range_submit_jobs\n",
    "\n",
    "# sh -e $HOME_DIRECTORY/scripts/DP_range_submit_jobs\n"
   ]
  },
  {
   "cell_type": "markdown",
   "id": "55b6baf6-c3fc-4f76-be30-d45dbb225579",
   "metadata": {
    "tags": []
   },
   "source": [
    "<a id=\"27\"></a> \n",
    "### Calculate the upper and lower coverage limits for each sample\n",
    "This script calculates the upper (2 * mean coverage) and the lower (0.5 * mean coverage) limits for each sample, convert the numeric values to integer, and store the results in a table.\n",
    "\n",
    "**Interperating the table:** "
   ]
  },
  {
   "cell_type": "code",
   "execution_count": null,
   "id": "f14e936b-1c52-425c-bade-4c85532440d0",
   "metadata": {
    "tags": []
   },
   "outputs": [],
   "source": [
    "HOME_DIRECTORY=/gpfs/home/wwh23wcu\n",
    "SCRATCH_DIRECTORY=/gpfs/scratch/wwh23wcu\n",
    "\n",
    "cat $HOME_DIRECTORY/vcf_handling/bcftools_annotate/*mean | paste $HOME_DIRECTORY/regime_sample_field_for_DP - > $HOME_DIRECTORY/vcf_handling/bcftools_annotate/DP_range\n",
    "\n",
    "awk '{$5=$4*0.5; $6=$4*2; print $0}' $HOME_DIRECTORY/vcf_handling/bcftools_annotate/DP_range > $HOME_DIRECTORY/vcf_handling/bcftools_annotate/DP_range_temp && mv $HOME_DIRECTORY/vcf_handling/bcftools_annotate/DP_range_temp $HOME_DIRECTORY/DP_range\n",
    "\n",
    "awk '{$7=int($5); $8=int($6); print $0}' $HOME_DIRECTORY/DP_range > $HOME_DIRECTORY/DP_range_temp && mv $HOME_DIRECTORY/DP_range_temp $HOME_DIRECTORY/DP_range\n"
   ]
  },
  {
   "cell_type": "markdown",
   "id": "db23a1e0-5740-4592-9d4f-6aebd0a0bc6b",
   "metadata": {
    "tags": []
   },
   "source": [
    "<a id=\"28\"></a> \n",
    "## Variant filtering"
   ]
  },
  {
   "cell_type": "markdown",
   "id": "6893be32-7f87-4d18-804b-6ea80fb9c16c",
   "metadata": {
    "tags": []
   },
   "source": [
    "<a id=\"29\"></a> \n",
    "### Derive SNP sites\n",
    "This script uses the GATK SelectVariants tool to select sites that are SNPs."
   ]
  },
  {
   "cell_type": "code",
   "execution_count": null,
   "id": "f7dcf643-9354-4fdf-ad24-13a0de6d3484",
   "metadata": {
    "tags": []
   },
   "outputs": [],
   "source": [
    "HOME_DIRECTORY=/gpfs/home/wwh23wcu\n",
    "SCRATCH_DIRECTORY=/gpfs/scratch/wwh23wcu\n",
    "\n",
    "REF_FASTA=$SCRATCH_DIRECTORY/ref_fasta/GCA_001643735.4_ASM164373v4_genomic.fna.gz\n",
    "JOB_OUTPUT=$SCRATCH_DIRECTORY/job_output/SelectVariants_SNP\n",
    "JOB_NAME=SelectVariants_SNP\n",
    "\n",
    "\n",
    "echo '#!/bin/bash -e\n",
    "#SBATCH --mail-type=ALL #Mail events (NONE, BEGIN, END, FAIL, ALL) \n",
    "#SBATCH --mail-user=papilio.chen@gmail.com #Where to send mail\n",
    "#SBATCH -p compute-24-96\n",
    "#SBATCH --mem=12G\n",
    "#SBATCH --time=00-06:00\n",
    "#SBATCH --job-name='$JOB_NAME'\n",
    "#SBATCH -o '$JOB_OUTPUT'/'$JOB_NAME'-%j.out\n",
    "#SBATCH -e '$JOB_OUTPUT'/'$JOB_NAME'-%j.err\n",
    "\n",
    "#ABOVE THIS LINE ARE THE SLURM DIRECTIVES\n",
    "#BELOW THIS LINE ARE THE COMMANDS TO RUN YOUR JOB\n",
    "\n",
    "regime=$1\n",
    "\n",
    "module load java/jdk1.8.0_231\n",
    "module load GATK/4.9.1\n",
    "\n",
    "gatk SelectVariants -R '$REF_FASTA' -V '$HOME_DIRECTORY'/vcf_handling/GenotypeGVCFs/$(basename $regime)_GenotypeGVCFs.g.vcf.gz -O '$HOME_DIRECTORY'/vcf_handling/SelectVariants_SNP/$(basename $regime)_SelectVariants_SNP.g.vcf.gz --select-type-to-include SNP --select-type-to-include NO_VARIATION --exclude-non-variants false\n",
    "' > $HOME_DIRECTORY/scripts/SelectVariants_SNP.sh\n",
    "\n",
    "\n",
    "\n",
    "less $HOME_DIRECTORY/regime_list | while read a; do printf \"\n",
    "sbatch $HOME_DIRECTORY/scripts/SelectVariants_SNP.sh \"$a\"\n",
    "\"; done > $HOME_DIRECTORY/scripts/SelectVariants_SNP_submit_jobs\n",
    "\n",
    "# sh -e $HOME_DIRECTORY/scripts/SelectVariants_SNP_submit_jobs\n",
    "\n"
   ]
  },
  {
   "cell_type": "markdown",
   "id": "8ff3e81d-af92-4264-9d7e-0f148639b6f6",
   "metadata": {
    "tags": []
   },
   "source": [
    "<a id=\"30\"></a> \n",
    "### Coverage filtering\n",
    "This script filters to derive SNPs with coverages within the upper or lower coverage limits for each sample."
   ]
  },
  {
   "cell_type": "markdown",
   "id": "d7d9057a-cb9e-4e22-9064-a487317ca378",
   "metadata": {
    "tags": []
   },
   "source": [
    "<a id=\"31\"></a> \n",
    "#### Split the multi-sample vcf to single-sample vcf\n",
    "This script uses the bcftools split tool to split the multi-sample vcf containing SNPs for each regime (i.e. the output from [SelectVariants](#29)) to six single-sample vcf; total 18 single-sample vcf files (six per regime) are generated."
   ]
  },
  {
   "cell_type": "code",
   "execution_count": null,
   "id": "2ffc115f-210b-4631-8360-0d2a095a8f91",
   "metadata": {
    "tags": []
   },
   "outputs": [],
   "source": [
    "HOME_DIRECTORY=/gpfs/home/wwh23wcu\n",
    "SCRATCH_DIRECTORY=/gpfs/scratch/wwh23wcu\n",
    "\n",
    "REF_FASTA=$SCRATCH_DIRECTORY/ref_fasta/GCA_001643735.4_ASM164373v4_genomic.fna.gz\n",
    "JOB_OUTPUT=$SCRATCH_DIRECTORY/job_output/bcftools_split\n",
    "JOB_NAME=bcftools_split\n",
    "\n",
    "echo '#!/bin/bash -e\n",
    "#SBATCH --mail-type=ALL #Mail events (NONE, BEGIN, END, FAIL, ALL) \n",
    "#SBATCH --mail-user=papilio.chen@gmail.com #Where to send mail\n",
    "#SBATCH -p compute-24-96\n",
    "#SBATCH --mem=3G\n",
    "#SBATCH --time=0-04:00\n",
    "#SBATCH --job-name='$JOB_NAME'\n",
    "#SBATCH -o '$JOB_OUTPUT'/'$JOB_NAME'-%j.out\n",
    "#SBATCH -e '$JOB_OUTPUT'/'$JOB_NAME'-%j.err\n",
    "\n",
    "#ABOVE THIS LINE ARE THE SLURM DIRECTIVES\n",
    "#BELOW THIS LINE ARE THE COMMANDS TO RUN YOUR JOB\n",
    "\n",
    "regime=$1\n",
    "sample_ID=$2\n",
    "\n",
    "module load bcftools/1.15.1\n",
    "module load htslib/1.15.1\n",
    "\n",
    "bcftools +split '$HOME_DIRECTORY'/vcf_handling/SelectVariants_SNP/$(basename $regime)_SelectVariants_SNP.g.vcf.gz -O z -o '$HOME_DIRECTORY'/vcf_handling/bcftools_DP/$(basename $regime)/\n",
    "\n",
    "tabix -p vcf '$HOME_DIRECTORY'/vcf_handling/bcftools_DP/$(basename $regime)/$(basename $sample_ID).vcf.gz\n",
    "\n",
    "' > $HOME_DIRECTORY/scripts/bcftools_split.sh\n",
    "\n",
    "\n",
    "less $HOME_DIRECTORY/regime_sample_field_for_DP | while read a b c; do printf \"\n",
    "sbatch $HOME_DIRECTORY/scripts/bcftools_split.sh \"$a\" \"$b\"\n",
    "\"; done > $HOME_DIRECTORY/scripts/bcftools_split_submit_jobs\n",
    "\n",
    "# sh -e $HOME_DIRECTORY/scripts/bcftools_split_submit_jobs\n"
   ]
  },
  {
   "cell_type": "markdown",
   "id": "a7910743-4d79-4634-b048-dcadffe310db",
   "metadata": {
    "tags": []
   },
   "source": [
    "<a id=\"32\"></a> \n",
    "#### Coverage filtering for each sample\n",
    "This script uses the bcftools view tool to derive sites that pass the sample's coverage filters for each sample (i.e. sites with coverages within 0.5* and 2* of the mean coverage of the sample are kept; see [Calculate the upper and lower coverage limits for each sample](#27)). The output of this script is a single-sample vcf for each sample."
   ]
  },
  {
   "cell_type": "code",
   "execution_count": null,
   "id": "8691adc5-499e-4943-8cae-53b03d495aab",
   "metadata": {
    "tags": []
   },
   "outputs": [],
   "source": [
    "HOME_DIRECTORY=/gpfs/home/wwh23wcu\n",
    "SCRATCH_DIRECTORY=/gpfs/scratch/wwh23wcu\n",
    "\n",
    "REF_FASTA=$SCRATCH_DIRECTORY/ref_fasta/GCA_001643735.4_ASM164373v4_genomic.fna.gz\n",
    "JOB_OUTPUT=$SCRATCH_DIRECTORY/job_output/bcftools_DP\n",
    "JOB_NAME=bcftools_view_DP\n",
    "\n",
    "\n",
    "echo '#!/bin/bash -e\n",
    "#SBATCH --mail-type=ALL #Mail events (NONE, BEGIN, END, FAIL, ALL) \n",
    "#SBATCH --mail-user=papilio.chen@gmail.com #Where to send mail\n",
    "#SBATCH -p compute-24-96\n",
    "#SBATCH --mem=3G\n",
    "#SBATCH --time=0-02:00\n",
    "#SBATCH --job-name='$JOB_NAME'\n",
    "#SBATCH -o '$JOB_OUTPUT'/'$JOB_NAME'-%j.out\n",
    "#SBATCH -e '$JOB_OUTPUT'/'$JOB_NAME'-%j.err\n",
    "\n",
    "#ABOVE THIS LINE ARE THE SLURM DIRECTIVES\n",
    "#BELOW THIS LINE ARE THE COMMANDS TO RUN YOUR JOB\n",
    "\n",
    "regime=$1\n",
    "sample_ID=$2\n",
    "min_DP=$3\n",
    "max_DP=$4\n",
    "\n",
    "module load bcftools/1.15.1\n",
    "module load htslib/1.15.1\n",
    "\n",
    "bcftools view -i '\"'\"'FMT/DP > '\"'\"'$min_DP'\"'\"'  & FMT/DP < '\"'\"'$max_DP'\"'\"' '\"'\"' '$HOME_DIRECTORY'/vcf_handling/bcftools_DP/$(basename $regime)/$(basename $sample_ID).vcf.gz -o '$HOME_DIRECTORY'/vcf_handling/bcftools_DP/$(basename $regime)/$(basename $sample_ID)_DP.vcf.gz\n",
    "\n",
    "tabix -p vcf '$HOME_DIRECTORY'/vcf_handling/bcftools_DP/$(basename $regime)/$(basename $sample_ID)_DP.vcf.gz\n",
    "\n",
    "' > $HOME_DIRECTORY/scripts/bcftools_view_DP.sh\n",
    "\n",
    "\n",
    "less $HOME_DIRECTORY/DP_range | while read a b c d e f g h; do printf \"\n",
    "sbatch $HOME_DIRECTORY/scripts/bcftools_view_DP.sh \"$a\" \"$b\" \"$g\" \"$h\"\n",
    "\"; done > $HOME_DIRECTORY/scripts/bcftools_view_DP_submit_jobs\n",
    "\n",
    "# sh -e $HOME_DIRECTORY/scripts/bcftools_view_DP_submit_jobs\n"
   ]
  },
  {
   "cell_type": "markdown",
   "id": "762bacda-8e22-4edb-81ee-0721e75ab896",
   "metadata": {
    "tags": []
   },
   "source": [
    "<a id=\"33\"></a> \n",
    "#### Intersect to derive a multi-sample vcf for each regime\n",
    "This script uses the bcftools isec tool to generate a multi-sample vcf for each regime containg SNPs that pass the sample-specific coverage filters for all six samples within the regime; total three multi-sample vcf files, corresponding to the three regimes (T1, T2, T5), are generated."
   ]
  },
  {
   "cell_type": "code",
   "execution_count": null,
   "id": "66d854b9-8246-499f-915a-564758b415d2",
   "metadata": {
    "tags": []
   },
   "outputs": [],
   "source": [
    "HOME_DIRECTORY=/gpfs/home/wwh23wcu\n",
    "SCRATCH_DIRECTORY=/gpfs/scratch/wwh23wcu\n",
    "\n",
    "REF_FASTA=$SCRATCH_DIRECTORY/ref_fasta/GCA_001643735.4_ASM164373v4_genomic.fna.gz\n",
    "JOB_OUTPUT=$SCRATCH_DIRECTORY/job_output/bcftools_DP\n",
    "JOB_NAME=bcftools_intersect\n",
    "\n",
    "\n",
    "echo '#!/bin/bash -e\n",
    "#SBATCH --mail-type=ALL #Mail events (NONE, BEGIN, END, FAIL, ALL) \n",
    "#SBATCH --mail-user=papilio.chen@gmail.com #Where to send mail\n",
    "#SBATCH -p compute-24-96\n",
    "#SBATCH --mem=18G\n",
    "#SBATCH --time=0-8:00\n",
    "#SBATCH --job-name='$JOB_NAME'\n",
    "#SBATCH -o '$JOB_OUTPUT'/'$JOB_NAME'-%j.out\n",
    "#SBATCH -e '$JOB_OUTPUT'/'$JOB_NAME'-%j.err\n",
    "\n",
    "#ABOVE THIS LINE ARE THE SLURM DIRECTIVES\n",
    "#BELOW THIS LINE ARE THE COMMANDS TO RUN YOUR JOB\n",
    "\n",
    "regime=$1\n",
    "sample1=$2\n",
    "sample2=$3\n",
    "sample3=$4\n",
    "sample4=$5\n",
    "sample5=$6\n",
    "sample6=$7\n",
    "\n",
    "module load bcftools/1.15.1\n",
    "module load htslib/1.15.1\n",
    "\n",
    "\n",
    "# 1. generate the intersection within regime for each regime; this produces a multi-sample vcf containing sites that passed the sample-specific DP filters for all samples within a regime\n",
    "\n",
    "bcftools isec -n=6 -w1 '$HOME_DIRECTORY'/vcf_handling/bcftools_DP/$(basename $regime)/$(basename $sample1)_DP.vcf.gz '$HOME_DIRECTORY'/vcf_handling/bcftools_DP/$(basename $regime)/$(basename $sample2)_DP.vcf.gz '$HOME_DIRECTORY'/vcf_handling/bcftools_DP/$(basename $regime)/$(basename $sample3)_DP.vcf.gz '$HOME_DIRECTORY'/vcf_handling/bcftools_DP/$(basename $regime)/$(basename $sample4)_DP.vcf.gz '$HOME_DIRECTORY'/vcf_handling/bcftools_DP/$(basename $regime)/$(basename $sample5)_DP.vcf.gz '$HOME_DIRECTORY'/vcf_handling/bcftools_DP/$(basename $regime)/$(basename $sample6)_DP.vcf.gz -o '$HOME_DIRECTORY'/vcf_handling/bcftools_DP/$(basename $regime)/$(basename $regime)_bcftools_isec.vcf.gz -O z\n",
    "\n",
    "tabix -p vcf '$HOME_DIRECTORY'/vcf_handling/bcftools_DP/$(basename $regime)/$(basename $regime)_bcftools_isec.vcf.gz\n",
    "\n",
    "# 2. generate the intersection between 1 and the multi-sample vcf containing SNPs generated by SelectVariants\n",
    "\n",
    "bcftools isec -n=2 -w1 '$HOME_DIRECTORY'/vcf_handling/SelectVariants_SNP/$(basename $regime)_SelectVariants_SNP.g.vcf.gz '$HOME_DIRECTORY'/vcf_handling/bcftools_DP/$(basename $regime)/$(basename $regime)_bcftools_isec.vcf.gz -o '$HOME_DIRECTORY'/vcf_handling/bcftools_DP/$(basename $regime)/$(basename $regime)_SNP_DPfiltered.vcf.gz -O z\n",
    "\n",
    "tabix -p vcf '$HOME_DIRECTORY'/vcf_handling/bcftools_DP/$(basename $regime)/$(basename $regime)_SNP_DPfiltered.vcf.gz\n",
    "\n",
    "' > $HOME_DIRECTORY/scripts/bcftools_intersect.sh\n",
    "\n",
    "\n",
    "less $HOME_DIRECTORY/regime_sample_wide | while read a b c d e f g; do printf \"\n",
    "sbatch $HOME_DIRECTORY/scripts/bcftools_intersect.sh \"$a\" \"$b\" \"$c\" \"$d\" \"$e\" \"$f\" \"$g\"\n",
    "\"; done > $HOME_DIRECTORY/scripts/bcftools_intersect_submit_jobs\n",
    "\n",
    "# sh -e $HOME_DIRECTORY/scripts/bcftools_intersect_submit_jobs\n",
    "\n"
   ]
  },
  {
   "cell_type": "markdown",
   "id": "35d8d813-1fd7-4419-8294-2c3733a4c722",
   "metadata": {
    "tags": []
   },
   "source": [
    "<a id=\"34\"></a> \n",
    "### Further filtering and hard-filtering\n",
    "This script uses the multi-sample vcf for each regime generated from the [coverage filtering step](#33) as input and further filters to derive biallelic sites where all samples of the same regime are genotyped (Step 1; see below) and for sites that pass the five hard-filter combinations (Step 2; see below), and outputs a tab-delimited table for each hard-filter combination (Step 3). Total 15 tables, five for each regime, are generated.\n",
    "\n",
    "Specifically, the three steps are:\n",
    "**Step 1:** Use GATK SelectVariants tool to derive biallelic sites where all samples of the same regime are genotyped. This step uses the multi-sample vcf for each regime from the [coverage filtering step](#33) and outputs a multi-sample vcf for each regime for Step 2.\n",
    "**Step 2:** Use GATK VariantFiltration and bcftools view tools to derive sites that pass the hard-filters. Total five hard-filter combinations are designed (defined [here](#3)). This step uses the multi-sample vcf generated in Step 1 as input and outputs five resultant multi-sample vcf files for each input vcf, with each of the resultant vcf corresponding to a hard-filter combination.\n",
    "**Step 3:** Use GATK VariantsToTable tool to extract INFO and FORMAT fields from the input vcf and outputs a tab-delimited table. This step uses the multi-sample vcf generated in Step 2 as input and outputs a tab-delimited table for each input vcf. Total five tables, each corresponding to a hard-filter combination, are generated for each regime. "
   ]
  },
  {
   "cell_type": "code",
   "execution_count": null,
   "id": "705dfb16-af61-468b-ab66-65f5ce4ea3e0",
   "metadata": {
    "tags": []
   },
   "outputs": [],
   "source": [
    "HOME_DIRECTORY=/gpfs/home/wwh23wcu\n",
    "SCRATCH_DIRECTORY=/gpfs/scratch/wwh23wcu\n",
    "\n",
    "REF_FASTA=$SCRATCH_DIRECTORY/ref_fasta/GCA_001643735.4_ASM164373v4_genomic.fna.gz\n",
    "JOB_OUTPUT=$SCRATCH_DIRECTORY/job_output/VariantFiltration\n",
    "JOB_NAME=VariantFiltration\n",
    "\n",
    "\n",
    "echo '#!/bin/bash -e\n",
    "#SBATCH --mail-type=ALL #Mail events (NONE, BEGIN, END, FAIL, ALL) \n",
    "#SBATCH --mail-user=papilio.chen@gmail.com #Where to send mail\n",
    "#SBATCH -p compute-24-96\n",
    "#SBATCH --mem=12G\n",
    "#SBATCH --time=0-06:00\n",
    "#SBATCH --job-name='$JOB_NAME'\n",
    "#SBATCH -o '$JOB_OUTPUT'/'$JOB_NAME'-%j.out\n",
    "#SBATCH -e '$JOB_OUTPUT'/'$JOB_NAME'-%j.err\n",
    "\n",
    "#ABOVE THIS LINE ARE THE SLURM DIRECTIVES\n",
    "#BELOW THIS LINE ARE THE COMMANDS TO RUN YOUR JOB\n",
    "\n",
    "\n",
    "regime=$1\n",
    "parameter_combination=$2\n",
    "QD_threshold=$3\n",
    "FS_threshold=$4\n",
    "SOR_threshold=$5\n",
    "MQ_threshold=$6\n",
    "MQRankSum_threshold=$7\n",
    "ReadPosRankSum_threshold=$8\n",
    "\n",
    "\n",
    "module load java/jdk1.8.0_231\n",
    "module load GATK/4.9.1\n",
    "\n",
    "\n",
    "# 1. Filters to derive biallelic SNP sites where all samples within the regime are called\n",
    "\n",
    "gatk SelectVariants -R '$REF_FASTA' \\\n",
    "-V '$HOME_DIRECTORY'/vcf_handling/bcftools_DP/$(basename $regime)/$(basename $regime)_SNP_DPfiltered.vcf.gz \\\n",
    "--max-nocall-number 0 \\\n",
    "--restrict-alleles-to BIALLELIC \\\n",
    "-O '$HOME_DIRECTORY'/vcf_handling/bcftools_DP/$(basename $regime)/$(basename $regime)_SNP_DPfiltered_AllCalled_BIALLELIC.vcf\n",
    "\n",
    "# 2. Filters to derive sites that passed the hard-filters\n",
    "\n",
    "gatk VariantFiltration -R '$REF_FASTA' \\\n",
    "-V '$HOME_DIRECTORY'/vcf_handling/bcftools_DP/$(basename $regime)/$(basename $regime)_SNP_DPfiltered_AllCalled_BIALLELIC.vcf \\\n",
    "-O '$HOME_DIRECTORY'/vcf_handling/VariantFiltration/$(basename $regime)_SNP_DPfiltered_AllCalled_BIALLELIC_VariantFiltration_$(basename $parameter_combination).vcf.gz \\\n",
    "--filter \"QD < $QD_threshold\" \\\n",
    "--filter-name \"QD_threshold\" \\\n",
    "--filter \"FS > $FS_threshold\" \\\n",
    "--filter-name \"FS_threshold\" \\\n",
    "--filter \"SOR > $SOR_threshold\" \\\n",
    "--filter-name \"SOR_threshold\" \\\n",
    "--filter \"MQ < $MQ_threshold\" \\\n",
    "--filter-name \"MQ_threshold\" \\\n",
    "--filter \"MQRankSum < $MQRankSum_threshold\" \\\n",
    "--filter-name \"MQRankSum_threshold\" \\\n",
    "--filter \"ReadPosRankSum < $ReadPosRankSum_threshold\" \\\n",
    "--filter-name \"ReadPosRankSum_threshold\" \n",
    "\n",
    "module load bcftools/1.15.1\n",
    "module load htslib/1.15.1\n",
    "\n",
    "bcftools view -i '\"'\"'FILTER=\"PASS\"'\"'\"' '$HOME_DIRECTORY'/vcf_handling/VariantFiltration/$(basename $regime)_SNP_DPfiltered_AllCalled_BIALLELIC_VariantFiltration_$(basename $parameter_combination).vcf.gz -o '$HOME_DIRECTORY'/vcf_handling/VariantFiltration/$(basename $regime)_SNP_DPfiltered_AllCalled_BIALLELIC_VariantFiltration_$(basename $parameter_combination)_PASS.vcf.gz\n",
    "\n",
    "tabix -p vcf '$HOME_DIRECTORY'/vcf_handling/VariantFiltration/$(basename $regime)_SNP_DPfiltered_AllCalled_BIALLELIC_VariantFiltration_$(basename $parameter_combination)_PASS.vcf.gz\n",
    "\n",
    "\n",
    "# 3. VariantsToTable\n",
    "\n",
    "gatk VariantsToTable -R '$REF_FASTA' \\\n",
    "-V '$HOME_DIRECTORY'/vcf_handling/VariantFiltration/$(basename $regime)_SNP_DPfiltered_AllCalled_BIALLELIC_VariantFiltration_$(basename $parameter_combination)_PASS.vcf.gz \\\n",
    "-O '$HOME_DIRECTORY'/vcf_handling/VariantFiltration/$(basename $regime)_SNP_DPfiltered_AllCalled_BIALLELIC_VariantFiltration_$(basename $parameter_combination)_PASS.table \\\n",
    "-F CHROM -F POS -F REF -F ALT -F QD -F QUAL -F DP \\\n",
    "-F MQRankSum -F ReadPosRankSum -F MQ -F FS -F SOR -F AC -F AF -F AN -F HOM-REF -F HET -F HOM-VAR -F NO-CALL -F TRANSITION -F TYPE -F VAR \\\n",
    "-GF GT -GF AD -GF DP -GF GQ \n",
    "\n",
    "' > $HOME_DIRECTORY/scripts/VariantFiltration.sh\n",
    "\n",
    "\n",
    "\n",
    "less $HOME_DIRECTORY/VariantFiltration_parameter_combinations | while read a b c d e f g h; do printf \"\n",
    "sbatch $HOME_DIRECTORY/scripts/VariantFiltration.sh \"$a\" \"$b\" \"$c\" \"$d\" \"$e\" \"$f\" \"$g\" \"$h\"\n",
    "\"; done > $HOME_DIRECTORY/scripts/VariantFiltration_submit_jobs\n",
    "\n",
    "# sh -e $HOME_DIRECTORY/scripts/VariantFiltration_submit_jobs\n",
    "\n"
   ]
  },
  {
   "cell_type": "markdown",
   "id": "99fc79d5-a084-4f2d-a3bc-07d2b08e9af0",
   "metadata": {
    "tags": []
   },
   "source": [
    "<a id=\"35\"></a> \n",
    "### Derive heterozygous singletons\n",
    "This section uses the tables generated in the [hard-filtering step](#34) as input and further filters to derive sites where the mutant allele is found in only one of all samples in each regime (i.e. singletons), sites where the mutant sample is heterozygous and the non-mutant samples are homozygous (for the same allele, either reference or alternate), and site where the alleleic ratio of the mutant allele is between 0.25 and 0.75 in the mutant sample, and 0 in the non-mutant samples of the same regime.\n",
    "\n",
    "Specifically, this section contains three scripts:\n",
    "**[Script 1:](#36)** Split the GT and AD columns to facilitate filtering.\n",
    "**[Script 2:](#37)** Derive singletons. Two types of singltons are derived; the mutant sample is heterozygous and the non-mutant samples are homozygous for the reference allele, or the mutant sample is heterozygous and the non-mutant samples are homozygous for the alternate allele.\n",
    "**[Script 3:](#38)** Derive sites where the allelic ratio of the mutant allele is between 0.25 and 0.75 in the mutant sample, and 0 in the non-mutant samples of the same regime."
   ]
  },
  {
   "cell_type": "markdown",
   "id": "7bd96cc8-2d12-455e-8928-0ff55d3397c9",
   "metadata": {
    "tags": []
   },
   "source": [
    "<a id=\"36\"></a> \n",
    "#### Split GT and AD columns"
   ]
  },
  {
   "cell_type": "code",
   "execution_count": null,
   "id": "e4bc631b-48ab-4f5c-9ea4-f5a7c0e70feb",
   "metadata": {
    "tags": []
   },
   "outputs": [],
   "source": [
    "HOME_DIRECTORY=/gpfs/home/wwh23wcu\n",
    "SCRATCH_DIRECTORY=/gpfs/scratch/wwh23wcu\n",
    "\n",
    "REF_FASTA=$SCRATCH_DIRECTORY/ref_fasta/GCA_001643735.4_ASM164373v4_genomic.fna.gz\n",
    "JOB_OUTPUT=$SCRATCH_DIRECTORY/job_output/VariantFiltration\n",
    "JOB_NAME=split_columns\n",
    "\n",
    "\n",
    "echo '#!/bin/bash -e\n",
    "#SBATCH --mail-type=ALL #Mail events (NONE, BEGIN, END, FAIL, ALL) \n",
    "#SBATCH --mail-user=papilio.chen@gmail.com #Where to send mail\n",
    "#SBATCH -p compute-24-96\n",
    "#SBATCH --mem=3G\n",
    "#SBATCH --time=0-01:00\n",
    "#SBATCH --job-name='$JOB_NAME'\n",
    "#SBATCH -o '$JOB_OUTPUT'/'$JOB_NAME'-%j.out\n",
    "#SBATCH -e '$JOB_OUTPUT'/'$JOB_NAME'-%j.err\n",
    "\n",
    "#ABOVE THIS LINE ARE THE SLURM DIRECTIVES\n",
    "#BELOW THIS LINE ARE THE COMMANDS TO RUN YOUR JOB\n",
    "\n",
    "\n",
    "regime=$1\n",
    "parameter_combination=$2\n",
    "\n",
    "\n",
    "## split GT columns\n",
    "\n",
    "sed '\"'\"'s/|/\\t/g'\"'\"' '$HOME_DIRECTORY'/vcf_handling/VariantFiltration/$(basename $regime)_SNP_DPfiltered_AllCalled_BIALLELIC_VariantFiltration_$(basename $parameter_combination)_PASS.table > '$HOME_DIRECTORY'/vcf_handling/VariantFiltration/$(basename $regime)_SNP_DPfiltered_AllCalled_BIALLELIC_VariantFiltration_$(basename $parameter_combination)_PASS_temp1.table \n",
    "\n",
    "sed '\"'\"'s/\\//\\t/g'\"'\"' '$HOME_DIRECTORY'/vcf_handling/VariantFiltration/$(basename $regime)_SNP_DPfiltered_AllCalled_BIALLELIC_VariantFiltration_$(basename $parameter_combination)_PASS_temp1.table > '$HOME_DIRECTORY'/vcf_handling/VariantFiltration/$(basename $regime)_SNP_DPfiltered_AllCalled_BIALLELIC_VariantFiltration_$(basename $parameter_combination)_PASS_temp2.table \n",
    "\n",
    "## split AD columns\n",
    "\n",
    "sed '\"'\"'s/,/\\t/g'\"'\"' '$HOME_DIRECTORY'/vcf_handling/VariantFiltration/$(basename $regime)_SNP_DPfiltered_AllCalled_BIALLELIC_VariantFiltration_$(basename $parameter_combination)_PASS_temp2.table > '$HOME_DIRECTORY'/vcf_handling/VariantFiltration/$(basename $regime)_SNP_DPfiltered_AllCalled_BIALLELIC_VariantFiltration_$(basename $parameter_combination)_PASS_splited.table \n",
    "\n",
    "rm '$HOME_DIRECTORY'/vcf_handling/VariantFiltration/$(basename $regime)_SNP_DPfiltered_AllCalled_BIALLELIC_VariantFiltration_$(basename $parameter_combination)_PASS_temp1.table\n",
    "rm '$HOME_DIRECTORY'/vcf_handling/VariantFiltration/$(basename $regime)_SNP_DPfiltered_AllCalled_BIALLELIC_VariantFiltration_$(basename $parameter_combination)_PASS_temp2.table\n",
    "\n",
    "' > $HOME_DIRECTORY/scripts/split_columns.sh\n",
    "\n",
    "\n",
    "\n",
    "less $HOME_DIRECTORY/VariantFiltration_parameter_combinations | while read a b c d e f g h; do printf \"\n",
    "sbatch $HOME_DIRECTORY/scripts/split_columns.sh \"$a\" \"$b\"\n",
    "\"; done > $HOME_DIRECTORY/scripts/split_columns_submit_jobs\n",
    "\n",
    "# sh -e $HOME_DIRECTORY/scripts/split_columns_submit_jobs\n"
   ]
  },
  {
   "cell_type": "markdown",
   "id": "95c67910-e363-4fa5-a9e8-ff0974439c27",
   "metadata": {
    "tags": []
   },
   "source": [
    "<a id=\"37\"></a> \n",
    "#### Derive singletons"
   ]
  },
  {
   "cell_type": "code",
   "execution_count": null,
   "id": "153b6cff-f367-49d2-910a-dfaa9c50febc",
   "metadata": {
    "tags": []
   },
   "outputs": [],
   "source": [
    "HOME_DIRECTORY=/gpfs/home/wwh23wcu\n",
    "SCRATCH_DIRECTORY=/gpfs/scratch/wwh23wcu\n",
    "\n",
    "REF_FASTA=$SCRATCH_DIRECTORY/ref_fasta/GCA_001643735.4_ASM164373v4_genomic.fna.gz\n",
    "JOB_OUTPUT=$SCRATCH_DIRECTORY/job_output/VariantFiltration\n",
    "JOB_NAME=singletons\n",
    "\n",
    "\n",
    "echo '#!/bin/bash -e\n",
    "#SBATCH --mail-type=ALL #Mail events (NONE, BEGIN, END, FAIL, ALL) \n",
    "#SBATCH --mail-user=papilio.chen@gmail.com #Where to send mail\n",
    "#SBATCH -p compute-24-96\n",
    "#SBATCH --mem=3G\n",
    "#SBATCH --time=0-01:00\n",
    "#SBATCH --job-name='$JOB_NAME'\n",
    "#SBATCH -o '$JOB_OUTPUT'/'$JOB_NAME'-%j.out\n",
    "#SBATCH -e '$JOB_OUTPUT'/'$JOB_NAME'-%j.err\n",
    "\n",
    "#ABOVE THIS LINE ARE THE SLURM DIRECTIVES\n",
    "#BELOW THIS LINE ARE THE COMMANDS TO RUN YOUR JOB\n",
    "\n",
    "\n",
    "regime=$1\n",
    "parameter_combination=$2\n",
    "\n",
    "## HOM-REF == 5, HET == 1\n",
    "\n",
    "awk '\"'\"'($16 == 5) && ($17 == 1) && ($18 == 0) {print $0}'\"'\"' '$HOME_DIRECTORY'/vcf_handling/VariantFiltration/$(basename $regime)_SNP_DPfiltered_AllCalled_BIALLELIC_VariantFiltration_$(basename $parameter_combination)_PASS_splited.table > '$HOME_DIRECTORY'/vcf_handling/VariantFiltration/$(basename $regime)_SNP_DPfiltered_AllCalled_BIALLELIC_VariantFiltration_$(basename $parameter_combination)_PASS_splited_singletons_HOMREF_HET.table\n",
    "\n",
    "## HOM-VAR == 5, HET == 1\n",
    "\n",
    "awk '\"'\"'($16 == 0) && ($17 == 1) && ($18 == 5) {print $0}'\"'\"' '$HOME_DIRECTORY'/vcf_handling/VariantFiltration/$(basename $regime)_SNP_DPfiltered_AllCalled_BIALLELIC_VariantFiltration_$(basename $parameter_combination)_PASS_splited.table > '$HOME_DIRECTORY'/vcf_handling/VariantFiltration/$(basename $regime)_SNP_DPfiltered_AllCalled_BIALLELIC_VariantFiltration_$(basename $parameter_combination)_PASS_splited_singletons_HOMVAR_HET.table\n",
    "\n",
    "' > $HOME_DIRECTORY/scripts/singletons.sh\n",
    "\n",
    "\n",
    "\n",
    "less $HOME_DIRECTORY/VariantFiltration_parameter_combinations | while read a b c d e f g h; do printf \"\n",
    "sbatch $HOME_DIRECTORY/scripts/singletons.sh \"$a\" \"$b\"\n",
    "\"; done > $HOME_DIRECTORY/scripts/singletons_submit_jobs\n",
    "\n",
    "# sh -e $HOME_DIRECTORY/scripts/singletons_submit_jobs\n",
    "\n"
   ]
  },
  {
   "cell_type": "markdown",
   "id": "0ba92d47-a86c-44bc-ba17-2f8ba7499311",
   "metadata": {
    "tags": []
   },
   "source": [
    "<a id=\"38\"></a> \n",
    "#### Filter on the allelic ratio of the mutant allele\n",
    "This script performs further filtering to derive sites where the allelic ratio of mutant allele is between 0.25 and 0.75 in the mutant sample, and no mutant allele is found in non-mutant samples of the same regime.\n"
   ]
  },
  {
   "cell_type": "code",
   "execution_count": null,
   "id": "f6607ad4-7659-4ef9-9f4e-692d3e2395b2",
   "metadata": {},
   "outputs": [],
   "source": [
    "HOME_DIRECTORY=/gpfs/home/wwh23wcu\n",
    "SCRATCH_DIRECTORY=/gpfs/scratch/wwh23wcu\n",
    "\n",
    "\n",
    "less $HOME_DIRECTORY/regime_parameter_type_sample1 | while read a b c; do printf \"\n",
    "## for sample1, HOM-REF/HET\n",
    "awk ' (\\$23 == \\$3) && (\\$24 == \\$4) && (\\$29 == \\$3) && (\\$30 == \\$3) && (\\$35 == \\$3) && (\\$36 == \\$3) && (\\$41 == \\$3) && (\\$42 == \\$3) && (\\$47 == \\$3) && (\\$48 == \\$3) && (\\$53 == \\$3) && (\\$54 == \\$3) && (\\$26/(\\$26+\\$25) >= 0.25) && (\\$26/(\\$26+\\$25) <= 0.75) && (\\$32 == 0) && (\\$38 == 0) && (\\$44 == 0) && (\\$50 == 0) && (\\$56 == 0) ' $HOME_DIRECTORY/vcf_handling/VariantFiltration/\"$a\"_SNP_DPfiltered_AllCalled_BIALLELIC_VariantFiltration_\"$b\"_PASS_splited_singletons_HOMREF_HET.table > $HOME_DIRECTORY/de_novo_mutation/consensus_approach/\"$c\"_\"$b\"_HOMREF_HET.table\n",
    "## for sample1, HOM-VAR/HET\n",
    "awk ' (\\$23 == \\$3) && (\\$24 == \\$4) && (\\$29 == \\$4) && (\\$30 == \\$4) && (\\$35 == \\$4) && (\\$36 == \\$4) && (\\$41 == \\$4) && (\\$42 == \\$4) && (\\$47 == \\$4) && (\\$48 == \\$4) && (\\$53 == \\$4) && (\\$54 == \\$4) && (\\$26/(\\$26+\\$25) >= 0.25) && (\\$26/(\\$26+\\$25) <= 0.75) && (\\$31 == 0) && (\\$37 == 0) && (\\$43 == 0) && (\\$49 == 0) && (\\$55 == 0) ' $HOME_DIRECTORY/vcf_handling/VariantFiltration/\"$a\"_SNP_DPfiltered_AllCalled_BIALLELIC_VariantFiltration_\"$b\"_PASS_splited_singletons_HOMVAR_HET.table > $HOME_DIRECTORY/de_novo_mutation/consensus_approach/\"$c\"_\"$b\"_HOMVAR_HET.table\n",
    "\"; done > $HOME_DIRECTORY/scripts/singletons_filtering_sample1\n",
    "\n",
    "\n",
    "\n",
    "\n",
    "less $HOME_DIRECTORY/regime_parameter_type_sample2 | while read a b c; do printf \"\n",
    "## for sample2, HOM-REF/HET\n",
    "awk ' (\\$23 == \\$3) && (\\$24 == \\$3) && (\\$29 == \\$3) && (\\$30 == \\$4) && (\\$35 == \\$3) && (\\$36 == \\$3) && (\\$41 == \\$3) && (\\$42 == \\$3) && (\\$47 == \\$3) && (\\$48 == \\$3) && (\\$53 == \\$3) && (\\$54 == \\$3) && (\\$32/(\\$32+\\$31) >= 0.25) && (\\$32/(\\$32+\\$31) <= 0.75) && (\\$26 == 0) && (\\$38 == 0) && (\\$44 == 0) && (\\$50 == 0) && (\\$56 == 0) ' $HOME_DIRECTORY/vcf_handling/VariantFiltration/\"$a\"_SNP_DPfiltered_AllCalled_BIALLELIC_VariantFiltration_\"$b\"_PASS_splited_singletons_HOMREF_HET.table > $HOME_DIRECTORY/de_novo_mutation/consensus_approach/\"$c\"_\"$b\"_HOMREF_HET.table\n",
    "## for sample2, HOM-VAR/HET\n",
    "awk ' (\\$23 == \\$4) && (\\$24 == \\$4) && (\\$29 == \\$3) && (\\$30 == \\$4) && (\\$35 == \\$4) && (\\$36 == \\$4) && (\\$41 == \\$4) && (\\$42 == \\$4) && (\\$47 == \\$4) && (\\$48 == \\$4) && (\\$53 == \\$4) && (\\$54 == \\$4) && (\\$32/(\\$32+\\$31) >= 0.25) && (\\$32/(\\$32+\\$31) <= 0.75) && (\\$25 == 0) && (\\$37 == 0) && (\\$43 == 0) && (\\$49 == 0) && (\\$55 == 0) ' $HOME_DIRECTORY/vcf_handling/VariantFiltration/\"$a\"_SNP_DPfiltered_AllCalled_BIALLELIC_VariantFiltration_\"$b\"_PASS_splited_singletons_HOMVAR_HET.table > $HOME_DIRECTORY/de_novo_mutation/consensus_approach/\"$c\"_\"$b\"_HOMVAR_HET.table\n",
    "\"; done > $HOME_DIRECTORY/scripts/singletons_filtering_sample2\n",
    "\n",
    "\n",
    "\n",
    "less $HOME_DIRECTORY/regime_parameter_type_sample3 | while read a b c; do printf \"\n",
    "## for sample3, HOM-REF/HET\n",
    "awk ' (\\$23 == \\$3) && (\\$24 == \\$3) && (\\$29 == \\$3) && (\\$30 == \\$3) && (\\$35 == \\$3) && (\\$36 == \\$4) && (\\$41 == \\$3) && (\\$42 == \\$3) && (\\$47 == \\$3) && (\\$48 == \\$3) && (\\$53 == \\$3) && (\\$54 == \\$3) && (\\$38/(\\$38+\\$37) >= 0.25) && (\\$38/(\\$38+\\$37) <= 0.75) && (\\$26 == 0) && (\\$32 == 0) && (\\$44 == 0) && (\\$50 == 0) && (\\$56 == 0) ' $HOME_DIRECTORY/vcf_handling/VariantFiltration/\"$a\"_SNP_DPfiltered_AllCalled_BIALLELIC_VariantFiltration_\"$b\"_PASS_splited_singletons_HOMREF_HET.table > $HOME_DIRECTORY/de_novo_mutation/consensus_approach/\"$c\"_\"$b\"_HOMREF_HET.table\n",
    "## for sample3, HOM-VAR/HET\n",
    "awk ' (\\$23 == \\$4) && (\\$24 == \\$4) && (\\$29 == \\$4) && (\\$30 == \\$4) && (\\$35 == \\$3) && (\\$36 == \\$4) && (\\$41 == \\$4) && (\\$42 == \\$4) && (\\$47 == \\$4) && (\\$48 == \\$4) && (\\$53 == \\$4) && (\\$54 == \\$4) && (\\$38/(\\$38+\\$37) >= 0.25) && (\\$38/(\\$38+\\$37) <= 0.75) && (\\$25 == 0) && (\\$31 == 0) && (\\$43 == 0) && (\\$49 == 0) && (\\$55 == 0) ' $HOME_DIRECTORY/vcf_handling/VariantFiltration/\"$a\"_SNP_DPfiltered_AllCalled_BIALLELIC_VariantFiltration_\"$b\"_PASS_splited_singletons_HOMVAR_HET.table > $HOME_DIRECTORY/de_novo_mutation/consensus_approach/\"$c\"_\"$b\"_HOMVAR_HET.table\n",
    "\"; done > $HOME_DIRECTORY/scripts/singletons_filtering_sample3\n",
    "\n",
    "\n",
    "\n",
    "\n",
    "less $HOME_DIRECTORY/regime_parameter_type_sample4 | while read a b c; do printf \"\n",
    "## for sample4, HOM-REF/HET\n",
    "awk ' (\\$23 == \\$3) && (\\$24 == \\$3) && (\\$29 == \\$3) && (\\$30 == \\$3) && (\\$35 == \\$3) && (\\$36 == \\$3) && (\\$41 == \\$3) && (\\$42 == \\$4) && (\\$47 == \\$3) && (\\$48 == \\$3) && (\\$53 == \\$3) && (\\$54 == \\$3) && (\\$44/(\\$44+\\$43) >= 0.25) && (\\$44/(\\$44+\\$43) <= 0.75) && (\\$26 == 0) && (\\$32 == 0) && (\\$38 == 0) && (\\$50 == 0) && (\\$56 == 0) ' $HOME_DIRECTORY/vcf_handling/VariantFiltration/\"$a\"_SNP_DPfiltered_AllCalled_BIALLELIC_VariantFiltration_\"$b\"_PASS_splited_singletons_HOMREF_HET.table > $HOME_DIRECTORY/de_novo_mutation/consensus_approach/\"$c\"_\"$b\"_HOMREF_HET.table\n",
    "## for sample4, HOM-VAR/HET\n",
    "awk ' (\\$23 == \\$4) && (\\$24 == \\$4) && (\\$29 == \\$4) && (\\$30 == \\$4) && (\\$35 == \\$4) && (\\$36 == \\$4) && (\\$41 == \\$3) && (\\$42 == \\$4) && (\\$47 == \\$4) && (\\$48 == \\$4) && (\\$53 == \\$4) && (\\$54 == \\$4) && (\\$44/(\\$44+\\$43) >= 0.25) && (\\$44/(\\$44+\\$43) <= 0.75) && (\\$25 == 0) && (\\$31 == 0) && (\\$37 == 0) && (\\$49 == 0) && (\\$55 == 0) ' $HOME_DIRECTORY/vcf_handling/VariantFiltration/\"$a\"_SNP_DPfiltered_AllCalled_BIALLELIC_VariantFiltration_\"$b\"_PASS_splited_singletons_HOMVAR_HET.table > $HOME_DIRECTORY/de_novo_mutation/consensus_approach/\"$c\"_\"$b\"_HOMVAR_HET.table\n",
    "\"; done > $HOME_DIRECTORY/scripts/singletons_filtering_sample4\n",
    "\n",
    "\n",
    "\n",
    "\n",
    "less $HOME_DIRECTORY/regime_parameter_type_sample5 | while read a b c; do printf \"\n",
    "## for sample5, HOM-REF/HET\n",
    "awk ' (\\$23 == \\$3) && (\\$24 == \\$3) && (\\$29 == \\$3) && (\\$30 == \\$3) && (\\$35 == \\$3) && (\\$36 == \\$3) && (\\$41 == \\$3) && (\\$42 == \\$3) && (\\$47 == \\$3) && (\\$48 == \\$4) && (\\$53 == \\$3) && (\\$54 == \\$3) && (\\$50/(\\$49+\\$50) >= 0.25) && (\\$50/(\\$49+\\$50) <= 0.75) && (\\$26 == 0) && (\\$32 == 0) && (\\$38 == 0) && (\\$44 == 0) && (\\$56 == 0) ' $HOME_DIRECTORY/vcf_handling/VariantFiltration/\"$a\"_SNP_DPfiltered_AllCalled_BIALLELIC_VariantFiltration_\"$b\"_PASS_splited_singletons_HOMREF_HET.table > $HOME_DIRECTORY/de_novo_mutation/consensus_approach/\"$c\"_\"$b\"_HOMREF_HET.table\n",
    "## for sample5, HOM-VAR/HET\n",
    "awk ' (\\$23 == \\$4) && (\\$24 == \\$4) && (\\$29 == \\$4) && (\\$30 == \\$4) && (\\$35 == \\$4) && (\\$36 == \\$4) && (\\$41 == \\$4) && (\\$42 == \\$4) && (\\$47 == \\$3) && (\\$48 == \\$4) && (\\$53 == \\$4) && (\\$54 == \\$4) && (\\$50/(\\$49+\\$50) >= 0.25) && (\\$50/(\\$49+\\$50) <= 0.75) && (\\$25 == 0) && (\\$31 == 0) && (\\$37 == 0) && (\\$43 == 0) && (\\$55 == 0) ' $HOME_DIRECTORY/vcf_handling/VariantFiltration/\"$a\"_SNP_DPfiltered_AllCalled_BIALLELIC_VariantFiltration_\"$b\"_PASS_splited_singletons_HOMVAR_HET.table > $HOME_DIRECTORY/de_novo_mutation/consensus_approach/\"$c\"_\"$b\"_HOMVAR_HET.table\n",
    "\"; done > $HOME_DIRECTORY/scripts/singletons_filtering_sample5\n",
    "\n",
    "\n",
    "\n",
    "less $HOME_DIRECTORY/regime_parameter_type_sample6 | while read a b c; do printf \"\n",
    "## for sample6, HOM-REF/HET\n",
    "awk ' (\\$23 == \\$3) && (\\$24 == \\$3) && (\\$29 == \\$3) && (\\$30 == \\$3) && (\\$35 == \\$3) && (\\$36 == \\$3) && (\\$41 == \\$3) && (\\$42 == \\$3) && (\\$47 == \\$3) && (\\$48 == \\$3) && (\\$53 == \\$3) && (\\$54 == \\$4) && (\\$56/(\\$55+\\$56) >= 0.25) && (\\$56/(\\$55+\\$56) <= 0.75) && (\\$26 == 0) && (\\$32 == 0) && (\\$38 == 0) && (\\$44 == 0) && (\\$50 == 0) ' $HOME_DIRECTORY/vcf_handling/VariantFiltration/\"$a\"_SNP_DPfiltered_AllCalled_BIALLELIC_VariantFiltration_\"$b\"_PASS_splited_singletons_HOMREF_HET.table > $HOME_DIRECTORY/de_novo_mutation/consensus_approach/\"$c\"_\"$b\"_HOMREF_HET.table\n",
    "## for sample6, HOM-VAR/HET\n",
    "awk ' (\\$23 == \\$4) && (\\$24 == \\$4) && (\\$29 == \\$4) && (\\$30 == \\$4) && (\\$35 == \\$4) && (\\$36 == \\$4) && (\\$41 == \\$4) && (\\$42 == \\$4) && (\\$47 == \\$4) && (\\$48 == \\$4) && (\\$53 == \\$3) && (\\$54 == \\$4) && (\\$56/(\\$55+\\$56) >= 0.25) && (\\$56/(\\$55+\\$56) <= 0.75) && (\\$25 == 0) && (\\$31 == 0) && (\\$37 == 0) && (\\$43 == 0) && (\\$49 == 0) ' $HOME_DIRECTORY/vcf_handling/VariantFiltration/\"$a\"_SNP_DPfiltered_AllCalled_BIALLELIC_VariantFiltration_\"$b\"_PASS_splited_singletons_HOMVAR_HET.table > $HOME_DIRECTORY/de_novo_mutation/consensus_approach/\"$c\"_\"$b\"_HOMVAR_HET.table\n",
    "\"; done > $HOME_DIRECTORY/scripts/singletons_filtering_sample6\n",
    "\n",
    "#sh -e $HOME_DIRECTORY/scripts/singletons_filtering_sample1\n",
    "#sh -e $HOME_DIRECTORY/scripts/singletons_filtering_sample2\n",
    "#sh -e $HOME_DIRECTORY/scripts/singletons_filtering_sample3\n",
    "#sh -e $HOME_DIRECTORY/scripts/singletons_filtering_sample4\n",
    "#sh -e $HOME_DIRECTORY/scripts/singletons_filtering_sample5\n",
    "#sh -e $HOME_DIRECTORY/scripts/singletons_filtering_sample6"
   ]
  },
  {
   "cell_type": "markdown",
   "id": "74b2e77b-c88e-4b62-8232-a052b962a912",
   "metadata": {
    "tags": []
   },
   "source": [
    "<a id=\"39\"></a> \n",
    "### Derive the number of candidate germline mutations for each sample"
   ]
  },
  {
   "cell_type": "code",
   "execution_count": null,
   "id": "4519265c-4d03-4464-849a-bfe042d7713c",
   "metadata": {
    "tags": []
   },
   "outputs": [],
   "source": [
    "HOME_DIRECTORY=/gpfs/home/wwh23wcu\n",
    "SCRATCH_DIRECTORY=/gpfs/scratch/wwh23wcu\n",
    "\n",
    "\n",
    "touch $HOME_DIRECTORY/de_novo_mutation/consensus_approach_number_GM_before_manual_inspection\n",
    "\n",
    "less $HOME_DIRECTORY/regime_parameter_type_sample_wide | while read a b c d e f g h i; do printf \"\n",
    "wc -l $HOME_DIRECTORY/de_novo_mutation/consensus_approach/\"$d\"_\"$b\"_\"$c\".table >> $HOME_DIRECTORY/de_novo_mutation/consensus_approach_number_GM_before_manual_inspection\n",
    "wc -l $HOME_DIRECTORY/de_novo_mutation/consensus_approach/\"$e\"_\"$b\"_\"$c\".table >> $HOME_DIRECTORY/de_novo_mutation/consensus_approach_number_GM_before_manual_inspection\n",
    "wc -l $HOME_DIRECTORY/de_novo_mutation/consensus_approach/\"$f\"_\"$b\"_\"$c\".table >> $HOME_DIRECTORY/de_novo_mutation/consensus_approach_number_GM_before_manual_inspection\n",
    "wc -l $HOME_DIRECTORY/de_novo_mutation/consensus_approach/\"$g\"_\"$b\"_\"$c\".table >> $HOME_DIRECTORY/de_novo_mutation/consensus_approach_number_GM_before_manual_inspection\n",
    "wc -l $HOME_DIRECTORY/de_novo_mutation/consensus_approach/\"$h\"_\"$b\"_\"$c\".table >> $HOME_DIRECTORY/de_novo_mutation/consensus_approach_number_GM_before_manual_inspection\n",
    "wc -l $HOME_DIRECTORY/de_novo_mutation/consensus_approach/\"$i\"_\"$b\"_\"$c\".table >> $HOME_DIRECTORY/de_novo_mutation/consensus_approach_number_GM_before_manual_inspection\n",
    "\"; done > $HOME_DIRECTORY/scripts/HaplotypeCaller_number_GM_before_manual_inspection\n",
    "\n",
    "sh -e $HOME_DIRECTORY/scripts/HaplotypeCaller_number_GM_before_manual_inspection\n",
    "\n",
    "sed -i 's/\\/gpfs\\/home\\/wwh23wcu\\/de_novo_mutation\\/consensus_approach\\///' $HOME_DIRECTORY/de_novo_mutation/consensus_approach_number_GM_before_manual_inspection\n",
    "\n",
    "sed -i 's/_/ /' $HOME_DIRECTORY/de_novo_mutation/consensus_approach_number_GM_before_manual_inspection\n",
    "sed -i 's/_/ /' $HOME_DIRECTORY/de_novo_mutation/consensus_approach_number_GM_before_manual_inspection\n",
    "\n",
    "sed -i 's/.table//' $HOME_DIRECTORY/de_novo_mutation/consensus_approach_number_GM_before_manual_inspection\n",
    "\n",
    "\n",
    "awk -F' ' 'BEGIN { SUBSEP = OFS = FS } { s[$2,$3] += $1; ++c[$2,$3] } END { for (i in s) { print i, s[i], c[i] } }' $HOME_DIRECTORY/de_novo_mutation/consensus_approach_number_GM_before_manual_inspection | sort | uniq > $HOME_DIRECTORY/de_novo_mutation/consensus_approach_number_GM_before_manual_inspection_temp\n",
    "\n",
    "mv $HOME_DIRECTORY/de_novo_mutation/consensus_approach_number_GM_before_manual_inspection_temp $HOME_DIRECTORY/de_novo_mutation/consensus_approach_number_GM_before_manual_inspection\n"
   ]
  },
  {
   "cell_type": "markdown",
   "id": "39d45367-295e-4804-bab9-6f7e1ba7fd5c",
   "metadata": {},
   "source": [
    "<a id=\"40\"></a> \n",
    "### Derive bed files for manual inspection\n",
    "This script derives a bed file for each sample"
   ]
  },
  {
   "cell_type": "code",
   "execution_count": null,
   "id": "1b761184-857e-4683-bea9-0bcfb4c6c516",
   "metadata": {},
   "outputs": [],
   "source": [
    "HOME_DIRECTORY=/gpfs/home/wwh23wcu\n",
    "SCRATCH_DIRECTORY=/gpfs/scratch/wwh23wcu\n",
    "\n",
    "\n",
    "less $HOME_DIRECTORY/regime_sample | while read a b; do printf \"\n",
    "awk '{print \\$1\\\" \\\"\\$2\\\" \\\"\\$3\\\" \\\"\\$4}' $HOME_DIRECTORY/de_novo_mutation/consensus_approach/\"$b\"_1_HOMREF_HET.table > $HOME_DIRECTORY/de_novo_mutation/consensus_approach/\"$b\"_1_HOMREF_HET.bed\n",
    "awk '{print \\$1\\\" \\\"\\$2\\\" \\\"\\$4\\\" \\\"\\$3}' $HOME_DIRECTORY/de_novo_mutation/consensus_approach/\"$b\"_1_HOMVAR_HET.table > $HOME_DIRECTORY/de_novo_mutation/consensus_approach/\"$b\"_1_HOMVAR_HET.bed\n",
    "\n",
    "cat $HOME_DIRECTORY/de_novo_mutation/consensus_approach/\"$b\"_1_HOMREF_HET.bed $HOME_DIRECTORY/de_novo_mutation/consensus_approach/\"$b\"_1_HOMVAR_HET.bed > $HOME_DIRECTORY/de_novo_mutation/bed/\"$b\"_consensus_bed\n",
    "\"; done > $HOME_DIRECTORY/scripts/consensus_derive_bed\n",
    "\n",
    "#sh -e $HOME_DIRECTORY/scripts/consensus_derive_bed"
   ]
  },
  {
   "cell_type": "markdown",
   "id": "10ec1bc0-066c-4502-808e-f5d60487a2c8",
   "metadata": {},
   "source": [
    "<a id=\"41\"></a> \n",
    "## Callability"
   ]
  },
  {
   "cell_type": "markdown",
   "id": "89b6df3f-d124-4b8f-b1ea-a59b905ae3c1",
   "metadata": {},
   "source": [
    "<a id=\"46\"></a> \n",
    "### Derive genotyped sites for each regime\n",
    "This script filters out sites with missing genotype in any of the samples of the same regime and keeps sites that all samples of the same regime are successfully genotyped."
   ]
  },
  {
   "cell_type": "code",
   "execution_count": null,
   "id": "c1fd5c64-e565-4f37-b8f6-e4b511f9d132",
   "metadata": {
    "tags": []
   },
   "outputs": [],
   "source": [
    "HOME_DIRECTORY=/gpfs/home/wwh23wcu\n",
    "SCRATCH_DIRECTORY=/gpfs/scratch/wwh23wcu\n",
    "\n",
    "REF_FASTA=$SCRATCH_DIRECTORY/ref_fasta/GCA_001643735.4_ASM164373v4_genomic.fna.gz\n",
    "JOB_OUTPUT=$SCRATCH_DIRECTORY/job_output/callability\n",
    "JOB_NAME=callability_cohort\n",
    "\n",
    "echo '#!/bin/bash -e\n",
    "#SBATCH --mail-type=ALL #Mail events (NONE, BEGIN, END, FAIL, ALL) \n",
    "#SBATCH --mail-user=papilio.chen@gmail.com #Where to send mail\n",
    "#SBATCH -p compute-24-96\n",
    "#SBATCH --mem=3G\n",
    "#SBATCH --time=0-04:00\n",
    "#SBATCH --job-name='$JOB_NAME'\n",
    "#SBATCH -o '$JOB_OUTPUT'/'$JOB_NAME'-%j.out\n",
    "#SBATCH -e '$JOB_OUTPUT'/'$JOB_NAME'-%j.err\n",
    "\n",
    "#ABOVE THIS LINE ARE THE SLURM DIRECTIVES\n",
    "#BELOW THIS LINE ARE THE COMMANDS TO RUN YOUR JOB\n",
    "\n",
    "regime=$1\n",
    "\n",
    "module load bcftools/1.15.1\n",
    "\n",
    "bcftools view -i '\"'\"' FORMAT/GT[0] != \"mis\" && FORMAT/GT[1] != \"mis\" && FORMAT/GT[2] != \"mis\"  && FORMAT/GT[3] != \"mis\" && FORMAT/GT[4] != \"mis\" && FORMAT/GT[5] != \"mis\" '\"'\"' '$HOME_DIRECTORY'/vcf_handling/GenotypeGVCFs/$(basename $regime)_GenotypeGVCFs.g.vcf.gz \\\n",
    "--output '$HOME_DIRECTORY'/vcf_handling/callability/$(basename $regime)_GenotypeGVCFs_callable.g.vcf.gz\n",
    "\n",
    "bcftools index -t '$HOME_DIRECTORY'/vcf_handling/callability/$(basename $regime)_GenotypeGVCFs_callable.g.vcf.gz\n",
    "\n",
    "' > $HOME_DIRECTORY/scripts/callability_cohort.sh\n",
    "\n",
    "\n",
    "less $HOME_DIRECTORY/regime_list | while read a b; do printf \"\n",
    "sbatch $HOME_DIRECTORY/scripts/callability_cohort.sh \"$a\"\n",
    "\"; done > $HOME_DIRECTORY/scripts/callability_cohort_submit_jobs\n",
    "\n",
    "# sh -e $HOME_DIRECTORY/scripts/callability_cohort_submit_jobs\n"
   ]
  },
  {
   "cell_type": "markdown",
   "id": "9d0a74ad-1980-4474-9670-088fea8b014b",
   "metadata": {},
   "source": [
    "<a id=\"43\"></a> \n",
    "### Derive the number of callable sites for each regime"
   ]
  },
  {
   "cell_type": "code",
   "execution_count": null,
   "id": "6851fda1-2a65-49e7-9266-d1c3a87bc19a",
   "metadata": {
    "tags": []
   },
   "outputs": [],
   "source": [
    "HOME_DIRECTORY=/gpfs/home/wwh23wcu\n",
    "SCRATCH_DIRECTORY=/gpfs/scratch/wwh23wcu\n",
    "\n",
    "\n",
    "touch $HOME_DIRECTORY/de_novo_mutation/consensus_approach_callability_regime\n",
    "\n",
    "less $HOME_DIRECTORY/regime_list | while read a; do printf \"\n",
    "bcftools index --nrecords $HOME_DIRECTORY/vcf_handling/callability/\"$a\"_GenotypeGVCFs_callable.g.vcf.gz >> $HOME_DIRECTORY/de_novo_mutation/consensus_approach_callability_regime\n",
    "\"; done > $HOME_DIRECTORY/scripts/callability_cohort_derive_results\n",
    "\n",
    "\n",
    "sed -i '1i module load bcftools/1.15.1' $HOME_DIRECTORY/scripts/callability_cohort_derive_results\n",
    "\n",
    "# sh -e $HOME_DIRECTORY/scripts/callability_cohort_derive_results\n"
   ]
  }
 ],
 "metadata": {
  "kernelspec": {
   "display_name": "Bash",
   "language": "bash",
   "name": "bash"
  },
  "language_info": {
   "name": ""
  }
 },
 "nbformat": 4,
 "nbformat_minor": 5
}
