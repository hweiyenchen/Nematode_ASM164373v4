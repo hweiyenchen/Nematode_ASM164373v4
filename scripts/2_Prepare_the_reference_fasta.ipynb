{
 "cells": [
  {
   "cell_type": "markdown",
   "id": "0160fa39-6eb8-4f9b-a4ec-07c3f1ae1706",
   "metadata": {
    "tags": []
   },
   "source": [
    "<a id=\"5\"></a> \n",
    "# Prepare the reference fasta "
   ]
  },
  {
   "cell_type": "markdown",
   "id": "863fa1e1-58df-48d7-bfaa-d0a43fec00ff",
   "metadata": {
    "tags": []
   },
   "source": [
    "<a id=\"6\"></a> \n",
    "## Index the reference fasta "
   ]
  },
  {
   "cell_type": "code",
   "execution_count": null,
   "id": "547ce744-2862-4ca1-9bd8-46c8db68d617",
   "metadata": {
    "tags": []
   },
   "outputs": [],
   "source": [
    "HOME_DIRECTORY=/gpfs/home/wwh23wcu\n",
    "SCRATCH_DIRECTORY=/gpfs/scratch/wwh23wcu\n",
    "FILE_DIRECTORY=/gpfs/data/justin_rna/Hwei-yen\n",
    "\n",
    "REF_FASTA=$SCRATCH_DIRECTORY/ref_fasta/GCA_001643735.4_ASM164373v4_genomic.fna.gz\n",
    "JOB_OUTPUT=$SCRATCH_DIRECTORY/job_output/prepare_ref\n",
    "JOB_NAME=prepare_reference_fasta\n",
    "\n",
    "\n",
    "echo '#!/bin/bash -e\n",
    "#SBATCH --mail-type=ALL #Mail events (NONE, BEGIN, END, FAIL, ALL) \n",
    "#SBATCH --mail-user=papilio.chen@gmail.com #Where to send mail\n",
    "#SBATCH -p compute-24-96\n",
    "#SBATCH --mem=3G\n",
    "#SBATCH --time=0-02:00\n",
    "#SBATCH --job-name='$JOB_NAME'\n",
    "#SBATCH -o '$JOB_OUTPUT'/'$JOB_NAME'-%j.out\n",
    "#SBATCH -e '$JOB_OUTPUT'/'$JOB_NAME'-%j.err\n",
    "\n",
    "#ABOVE THIS LINE ARE THE SLURM DIRECTIVES\n",
    "#BELOW THIS LINE ARE THE COMMANDS TO RUN YOUR JOB\n",
    "\n",
    "module load bwa/0.7.17\n",
    "module load java/jdk1.8.0_231\n",
    "module load picard/2.24.1\n",
    "module load htslib/1.15.1\n",
    "module load samtools/1.16.1\n",
    "\n",
    "\n",
    "bwa index -p '$SCRATCH_DIRECTORY'/ref_fasta/$(basename $REF_FASTA) '$SCRATCH_DIRECTORY'/ref_fasta/$(basename $REF_FASTA) -a bwtsw '$SCRATCH_DIRECTORY'/ref_fasta/$(basename $REF_FASTA)\n",
    "\n",
    "java -jar /gpfs/software/ada/picard/2.24.1/picard.jar CreateSequenceDictionary -R '$SCRATCH_DIRECTORY'/ref_fasta/$(basename $REF_FASTA) -O '$SCRATCH_DIRECTORY'/ref_fasta/$(basename $REF_FASTA '.fna.gz').dict\n",
    "\n",
    "zcat '$SCRATCH_DIRECTORY'/ref_fasta/$(basename $REF_FASTA) | bgzip -c > '$SCRATCH_DIRECTORY'/ref_fasta/$(basename $REF_FASTA)\n",
    "\n",
    "samtools faidx '$SCRATCH_DIRECTORY'/ref_fasta/$(basename $REF_FASTA)\n",
    "\n",
    "' > $HOME_DIRECTORY/scripts/prepare_ref.sh\n",
    "\n",
    "\n",
    "# sbatch $HOME_DIRECTORY/scripts/prepare_ref.sh\n",
    "\n"
   ]
  },
  {
   "cell_type": "markdown",
   "id": "59192f4a-5f70-4321-ab16-2db0859b5950",
   "metadata": {
    "tags": []
   },
   "source": [
    "<a id=\"7\"></a> \n",
    "## Generate the contig.intervals file\n",
    "This script generates the contig.intervals file that will be used in the [GenomicsDBImport](#22) step."
   ]
  },
  {
   "cell_type": "code",
   "execution_count": null,
   "id": "0d200d1a-7892-4ff5-be12-5034d382e707",
   "metadata": {
    "tags": []
   },
   "outputs": [],
   "source": [
    "HOME_DIRECTORY=/gpfs/home/wwh23wcu\n",
    "SCRATCH_DIRECTORY=/gpfs/scratch/wwh23wcu\n",
    "FILE_DIRECTORY=/gpfs/data/justin_rna/Hwei-yen\n",
    "\n",
    "REF_FASTA=GCA_001643735.4_ASM164373v4_genomic.fna.gz\n",
    "\n",
    "\n",
    "cut -f1,2 $SCRATCH_DIRECTORY/ref_fasta/$(basename $REF_FASTA).fai > $SCRATCH_DIRECTORY/ref_fasta/$(basename $REF_FASTA)_contigs.temp\n",
    "\n",
    "less $SCRATCH_DIRECTORY/ref_fasta/$(basename $REF_FASTA)_contigs.temp | while read p; do echo \"1\"; done > $SCRATCH_DIRECTORY/ref_fasta/$(basename $REF_FASTA)_contigs.start\n",
    "\n",
    "paste $SCRATCH_DIRECTORY/ref_fasta/$(basename $REF_FASTA)_contigs.temp $SCRATCH_DIRECTORY/ref_fasta/$(basename $REF_FASTA)_contigs.start | awk '{ print $1,$3,$2 }' > $SCRATCH_DIRECTORY/ref_fasta/$(basename $REF_FASTA)_contigs.interval_list_1\n",
    "\n",
    "sed -r 's/\\s+/:/' $SCRATCH_DIRECTORY/ref_fasta/$(basename $REF_FASTA)_contigs.interval_list_1 > $SCRATCH_DIRECTORY/ref_fasta/$(basename $REF_FASTA)_contigs.interval_list_2\n",
    "\n",
    "sed -r 's/\\s+/-/' $SCRATCH_DIRECTORY/ref_fasta/$(basename $REF_FASTA)_contigs.interval_list_2 > $SCRATCH_DIRECTORY/ref_fasta/$(basename $REF_FASTA)_contigs.intervals\n",
    "\n",
    "\n",
    "rm $SCRATCH_DIRECTORY/ref_fasta/$(basename $REF_FASTA)_contigs.temp\n",
    "rm $SCRATCH_DIRECTORY/ref_fasta/$(basename $REF_FASTA)_contigs.start\n",
    "rm $SCRATCH_DIRECTORY/ref_fasta/$(basename $REF_FASTA)_contigs.interval_list_1\n",
    "rm $SCRATCH_DIRECTORY/ref_fasta/$(basename $REF_FASTA)_contigs.interval_list_2\n",
    "\n",
    "\n",
    "\n"
   ]
  },
  {
   "cell_type": "markdown",
   "id": "2df4d7e4-d8b4-41c3-a6c6-0b244932760f",
   "metadata": {
    "tags": []
   },
   "source": [
    "<a id=\"8\"></a> \n",
    "## Decompress the reference fasta for the probabilistic approach\n",
    "This script produces a decompressed fastq for the reference assembly which will be used for the [probabilistic approach](#XXX)"
   ]
  },
  {
   "cell_type": "code",
   "execution_count": null,
   "id": "6d25189a-4451-4296-bb1c-6bc12846b635",
   "metadata": {
    "tags": []
   },
   "outputs": [],
   "source": [
    "HOME_DIRECTORY=/gpfs/home/wwh23wcu\n",
    "SCRATCH_DIRECTORY=/gpfs/scratch/wwh23wcu\n",
    "FILE_DIRECTORY=/gpfs/data/justin_rna/Hwei-yen\n",
    "\n",
    "REF_FASTA=$SCRATCH_DIRECTORY/ref_fasta/GCA_001643735.4_ASM164373v4_genomic.fna.gz\n",
    "\n",
    "zcat $SCRATCH_DIRECTORY/ref_fasta/GCA_001643735.4_ASM164373v4_genomic.fna.gz > $SCRATCH_DIRECTORY/ref_fasta/GCA_001643735.4_ASM164373v4_genomic.fna"
   ]
  }
 ],
 "metadata": {
  "kernelspec": {
   "display_name": "Bash",
   "language": "bash",
   "name": "bash"
  },
  "language_info": {
   "name": ""
  }
 },
 "nbformat": 4,
 "nbformat_minor": 5
}
