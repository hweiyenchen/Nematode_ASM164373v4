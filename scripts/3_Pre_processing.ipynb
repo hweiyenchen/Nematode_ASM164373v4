{
 "cells": [
  {
   "cell_type": "code",
   "execution_count": null,
   "id": "e80e9fc1-95da-4359-b71a-01b2489b5a79",
   "metadata": {},
   "outputs": [],
   "source": []
  },
  {
   "cell_type": "markdown",
   "id": "3758e76f-ce0b-4e64-8dc4-103be66782cd",
   "metadata": {
    "tags": []
   },
   "source": [
    "<a id=\"9\"></a> \n",
    "# Pre-processing"
   ]
  },
  {
   "cell_type": "markdown",
   "id": "9081eae5-9b2e-4823-a6b8-630a141e1335",
   "metadata": {
    "tags": []
   },
   "source": [
    "<a id=\"10\"></a> \n",
    "## Trimming"
   ]
  },
  {
   "cell_type": "markdown",
   "id": "6670820f-5408-45ff-bb85-7a2513dce7b8",
   "metadata": {
    "tags": []
   },
   "source": [
    "<a id=\"11\"></a> \n",
    "### Trim adapters"
   ]
  },
  {
   "cell_type": "code",
   "execution_count": null,
   "id": "174c6b46-f73e-4d7f-8ea7-e2529304ba77",
   "metadata": {
    "tags": []
   },
   "outputs": [],
   "source": [
    "HOME_DIRECTORY=/gpfs/home/wwh23wcu\n",
    "SCRATCH_DIRECTORY=/gpfs/scratch/wwh23wcu\n",
    "\n",
    "REF_FASTA=$SCRATCH_DIRECTORY/ref_fasta/GCA_001643735.4_ASM164373v4_genomic.fna.gz\n",
    "JOB_OUTPUT=$SCRATCH_DIRECTORY/job_output/trimming\n",
    "JOB_NAME=trimming\n",
    "\n",
    "echo '#!/bin/bash -e\n",
    "#SBATCH --mail-type=ALL #Mail events (NONE, BEGIN, END, FAIL, ALL) \n",
    "#SBATCH --mail-user=papilio.chen@gmail.com #Where to send mail\n",
    "#SBATCH -p compute-24-96\n",
    "#SBATCH --mem=6G\n",
    "#SBATCH --time=0-02:00\n",
    "#SBATCH --job-name='$JOB_NAME'\n",
    "#SBATCH -o '$JOB_OUTPUT'/'$JOB_NAME'-%j.out\n",
    "#SBATCH -e '$JOB_OUTPUT'/'$JOB_NAME'-%j.err\n",
    "\n",
    "#ABOVE THIS LINE ARE THE SLURM DIRECTIVES\n",
    "#BELOW THIS LINE ARE THE COMMANDS TO RUN YOUR JOB\n",
    "\n",
    "input_file_1=$1\n",
    "input_file_2=$2\n",
    "\n",
    "module load fastp/0.23.2\n",
    "\n",
    "fastp -i '$SCRATCH_DIRECTORY'/fastq_files/$input_file_1 -I '$SCRATCH_DIRECTORY'/fastq_files/$input_file_2 -o '$SCRATCH_DIRECTORY'/trimmed_seq/$(basename $input_file_1 '.fastq.gz')_fastp.fastq.gz -O '$SCRATCH_DIRECTORY'/trimmed_seq/$(basename $input_file_2 '.fastq.gz')_fastp.fastq.gz --detect_adapter_for_pe -q 15 -l 15\n",
    "\n",
    "' > $HOME_DIRECTORY/scripts/trimming.sh\n",
    "\n",
    "\n",
    "\n",
    "less $HOME_DIRECTORY/fastq_list | while read a b c; do printf \"\n",
    "sbatch $HOME_DIRECTORY/scripts/trimming.sh \"$a\" \"$b\"\n",
    "\"; done > $HOME_DIRECTORY/scripts/trimming_submit_jobs\n",
    "\n",
    "# sh -e $HOME_DIRECTORY/scripts/trimming_submit_jobs\n"
   ]
  },
  {
   "cell_type": "markdown",
   "id": "f909b65d-6706-45af-871d-a340f667872f",
   "metadata": {
    "tags": []
   },
   "source": [
    "<a id=\"12\"></a> \n",
    "## Mapping"
   ]
  },
  {
   "cell_type": "markdown",
   "id": "49a0b8e0-aa71-4d44-ac33-9e478e69e819",
   "metadata": {
    "tags": []
   },
   "source": [
    "<a id=\"13\"></a> \n",
    "### Map adapter-trimmed reads against the reference assembly"
   ]
  },
  {
   "cell_type": "code",
   "execution_count": null,
   "id": "717ac749-043c-49b6-9df8-3fb9017d78df",
   "metadata": {
    "tags": []
   },
   "outputs": [],
   "source": [
    "HOME_DIRECTORY=/gpfs/home/wwh23wcu\n",
    "SCRATCH_DIRECTORY=/gpfs/scratch/wwh23wcu\n",
    "\n",
    "REF_FASTA=$SCRATCH_DIRECTORY/ref_fasta/GCA_001643735.4_ASM164373v4_genomic.fna.gz\n",
    "JOB_OUTPUT=$SCRATCH_DIRECTORY/job_output/bwa_mem\n",
    "JOB_NAME=bwa_mem\n",
    "\n",
    "\n",
    "echo '#!/bin/bash -e\n",
    "#SBATCH --mail-type=ALL #Mail events (NONE, BEGIN, END, FAIL, ALL) \n",
    "#SBATCH --mail-user=papilio.chen@gmail.com #Where to send mail\n",
    "#SBATCH -p compute-24-96\n",
    "#SBATCH --mem=18G\n",
    "#SBATCH --time=0-72:00\n",
    "#SBATCH --job-name='$JOB_NAME'\n",
    "#SBATCH -o '$JOB_OUTPUT'/'$JOB_NAME'-%j.out\n",
    "#SBATCH -e '$JOB_OUTPUT'/'$JOB_NAME'-%j.err\n",
    "\n",
    "#ABOVE THIS LINE ARE THE SLURM DIRECTIVES\n",
    "#BELOW THIS LINE ARE THE COMMANDS TO RUN YOUR JOB\n",
    "\n",
    "input_file_1=$1\n",
    "input_file_2=$2\n",
    "output_file=$3\n",
    "\n",
    "module load bwa/0.7.17\n",
    "\n",
    "bwa mem -t 6 '$REF_FASTA' '$SCRATCH_DIRECTORY'/trimmed_seq/$(basename $input_file_1 '.fastq.gz')_fastp.fastq.gz '$SCRATCH_DIRECTORY'/trimmed_seq/$(basename $input_file_2 '.fastq.gz')_fastp.fastq.gz > '$SCRATCH_DIRECTORY'/trimmed_seq/$(basename $output_file).sam\n",
    "\n",
    "' > $HOME_DIRECTORY/scripts/bwa_mem.sh\n",
    "\n",
    "\n",
    "\n",
    "less $HOME_DIRECTORY/fastq_list | while read a b c; do printf \"\n",
    "sbatch $HOME_DIRECTORY/scripts/bwa_mem.sh \"$a\" \"$b\" \"$c\"\n",
    "\"; done > $HOME_DIRECTORY/scripts/bwa_mem_submit_jobs\n",
    "\n",
    "# sh -e $HOME_DIRECTORY/scripts/bwa_mem_submit_jobs\n"
   ]
  },
  {
   "cell_type": "markdown",
   "id": "c02a45cc-b733-4020-8bff-e53ba7bd0f02",
   "metadata": {
    "tags": []
   },
   "source": [
    "<a id=\"14\"></a> \n",
    "### Sort the sam files"
   ]
  },
  {
   "cell_type": "code",
   "execution_count": null,
   "id": "23098b07-537e-40f4-a667-205cf569f559",
   "metadata": {
    "tags": []
   },
   "outputs": [],
   "source": [
    "HOME_DIRECTORY=/gpfs/home/wwh23wcu\n",
    "SCRATCH_DIRECTORY=/gpfs/scratch/wwh23wcu\n",
    "\n",
    "REF_FASTA=$SCRATCH_DIRECTORY/ref_fasta/GCA_001643735.4_ASM164373v4_genomic.fna.gz\n",
    "JOB_OUTPUT=$SCRATCH_DIRECTORY/job_output/samtools_sort\n",
    "JOB_NAME=samtools_sort_sam_to_bam\n",
    "\n",
    "\n",
    "echo '#!/bin/bash -e\n",
    "#SBATCH --mail-type=ALL #Mail events (NONE, BEGIN, END, FAIL, ALL) \n",
    "#SBATCH --mail-user=papilio.chen@gmail.com #Where to send mail\n",
    "#SBATCH -p compute-24-96\n",
    "#SBATCH --mem=18G\n",
    "#SBATCH --time=0-72:00\n",
    "#SBATCH --job-name='$JOB_NAME'\n",
    "#SBATCH -o '$JOB_OUTPUT'/'$JOB_NAME'-%j.out\n",
    "#SBATCH -e '$JOB_OUTPUT'/'$JOB_NAME'-%j.err\n",
    "\n",
    "#ABOVE THIS LINE ARE THE SLURM DIRECTIVES\n",
    "#BELOW THIS LINE ARE THE COMMANDS TO RUN YOUR JOB\n",
    "\n",
    "input_file=$1\n",
    "\n",
    "module load samtools/1.16.1\n",
    "\n",
    "samtools sort -T '$SCRATCH_DIRECTORY'/trimmed_seq/$(basename $input_file) -o '$SCRATCH_DIRECTORY'/bam_files/$(basename $input_file).bam '$SCRATCH_DIRECTORY'/trimmed_seq/$(basename $input_file).sam \n",
    "' > $HOME_DIRECTORY/scripts/samtools_sort_sam_to_bam.sh\n",
    "\n",
    "\n",
    "\n",
    "less $HOME_DIRECTORY/fastq_list | while read a b c; do printf \"\n",
    "sbatch $HOME_DIRECTORY/scripts/samtools_sort_sam_to_bam.sh \"$c\"\n",
    "\"; done > $HOME_DIRECTORY/scripts/samtools_sort_sam_to_bam_submit_jobs\n",
    "\n",
    "# sh -e $HOME_DIRECTORY/scripts/samtools_sort_sam_to_bam_submit_jobs\n",
    "\n"
   ]
  },
  {
   "cell_type": "markdown",
   "id": "5402251b-7196-4c39-920b-d5b0f49c8ac8",
   "metadata": {
    "tags": []
   },
   "source": [
    "<a id=\"15\"></a> \n",
    "### View the bam files"
   ]
  },
  {
   "cell_type": "code",
   "execution_count": null,
   "id": "87c93746-0031-4c3c-9d60-44f6b0499aa7",
   "metadata": {
    "tags": []
   },
   "outputs": [],
   "source": [
    "HOME_DIRECTORY=/gpfs/home/wwh23wcu\n",
    "SCRATCH_DIRECTORY=/gpfs/scratch/wwh23wcu\n",
    "\n",
    "REF_FASTA=$SCRATCH_DIRECTORY/ref_fasta/GCA_001643735.4_ASM164373v4_genomic.fna.gz\n",
    "JOB_OUTPUT=$SCRATCH_DIRECTORY/job_output/samtools_view\n",
    "JOB_NAME=samtools_view_bam\n",
    "\n",
    "\n",
    "echo '#!/bin/bash -e\n",
    "#SBATCH --mail-type=ALL #Mail events (NONE, BEGIN, END, FAIL, ALL) \n",
    "#SBATCH --mail-user=papilio.chen@gmail.com #Where to send mail\n",
    "#SBATCH -p compute-24-96\n",
    "#SBATCH --mem=18G\n",
    "#SBATCH --time=0-48:00\n",
    "#SBATCH --job-name='$JOB_NAME'\n",
    "#SBATCH -o '$JOB_OUTPUT'/'$JOB_NAME'-%j.out\n",
    "#SBATCH -e '$JOB_OUTPUT'/'$JOB_NAME'-%j.err\n",
    "\n",
    "#ABOVE THIS LINE ARE THE SLURM DIRECTIVES\n",
    "#BELOW THIS LINE ARE THE COMMANDS TO RUN YOUR JOB\n",
    "\n",
    "input_file=$1\n",
    "\n",
    "module load samtools/1.16.1\n",
    "\n",
    "samtools view '$SCRATCH_DIRECTORY'/bam_files/$(basename $input_file).bam -h -b -o '$SCRATCH_DIRECTORY'/bam_files/$(basename $input_file)_viewed.bam\n",
    "\n",
    "' > $HOME_DIRECTORY/scripts/samtools_view_bam.sh\n",
    "\n",
    "\n",
    "\n",
    "less $HOME_DIRECTORY/fastq_list | while read a b c; do printf \"\n",
    "sbatch $HOME_DIRECTORY/scripts/samtools_view_bam.sh \"$c\"\n",
    "\"; done > $HOME_DIRECTORY/scripts/samtools_view_bam_submit_jobs\n",
    "\n",
    "# sh -e $HOME_DIRECTORY/scripts/samtools_view_bam_submit_jobs\n",
    "\n"
   ]
  },
  {
   "cell_type": "markdown",
   "id": "f8b009e6-1f7d-4452-8d63-7b765ba1544b",
   "metadata": {
    "tags": []
   },
   "source": [
    "<a id=\"16\"></a> \n",
    "### Mark duplicated reads in the bam files"
   ]
  },
  {
   "cell_type": "code",
   "execution_count": null,
   "id": "c5079151-9dc5-41cc-9ddf-20c88bf28ed0",
   "metadata": {
    "tags": []
   },
   "outputs": [],
   "source": [
    "HOME_DIRECTORY=/gpfs/home/wwh23wcu\n",
    "SCRATCH_DIRECTORY=/gpfs/scratch/wwh23wcu\n",
    "\n",
    "REF_FASTA=$SCRATCH_DIRECTORY/ref_fasta/GCA_001643735.4_ASM164373v4_genomic.fna.gz\n",
    "JOB_OUTPUT=$SCRATCH_DIRECTORY/job_output/MarkDuplicates\n",
    "JOB_NAME=MarkDuplicates\n",
    "\n",
    "\n",
    "echo '#!/bin/bash -e\n",
    "#SBATCH --mail-type=ALL #Mail events (NONE, BEGIN, END, FAIL, ALL) \n",
    "#SBATCH --mail-user=papilio.chen@gmail.com #Where to send mail\n",
    "#SBATCH -p compute-24-96\n",
    "#SBATCH --mem=36G\n",
    "#SBATCH --time=0-02:00\n",
    "#SBATCH --job-name='$JOB_NAME'\n",
    "#SBATCH -o '$JOB_OUTPUT'/'$JOB_NAME'-%j.out\n",
    "#SBATCH -e '$JOB_OUTPUT'/'$JOB_NAME'-%j.err\n",
    "\n",
    "#ABOVE THIS LINE ARE THE SLURM DIRECTIVES\n",
    "#BELOW THIS LINE ARE THE COMMANDS TO RUN YOUR JOB\n",
    "\n",
    "input_file=$1\n",
    "\n",
    "module load java/jdk1.8.0_231\n",
    "module load picard/2.24.1\n",
    "\n",
    "java -jar /gpfs/software/ada/picard/2.24.1/picard.jar MarkDuplicates I='$SCRATCH_DIRECTORY'/bam_files/$(basename $input_file)_viewed.bam O='$SCRATCH_DIRECTORY'/bam_files/$(basename $input_file)_viewed_marked.bam METRICS_FILE='$SCRATCH_DIRECTORY'/bam_files/$(basename $input_file)_metrics.txt ASSUME_SORTED=true VALIDATION_STRINGENCY=SILENT\n",
    "\n",
    "' > $HOME_DIRECTORY/scripts/MarkDuplicates.sh\n",
    "\n",
    "\n",
    "\n",
    "less $HOME_DIRECTORY/fastq_list | while read a b c; do printf \"\n",
    "sbatch $HOME_DIRECTORY/scripts/MarkDuplicates.sh \"$c\"\n",
    "\"; done > $HOME_DIRECTORY/scripts/MarkDuplicates_submit_jobs\n",
    "\n",
    "# sh -e $HOME_DIRECTORY/scripts/MarkDuplicates_submit_jobs\n",
    "\n"
   ]
  },
  {
   "cell_type": "markdown",
   "id": "97babc64-afb9-4efe-957e-a2c7553cd0bf",
   "metadata": {
    "tags": []
   },
   "source": [
    "<a id=\"17\"></a> \n",
    "### Add read groups to the bam files"
   ]
  },
  {
   "cell_type": "code",
   "execution_count": null,
   "id": "d4286548-8a71-44bf-a8c1-5c1615d36517",
   "metadata": {
    "tags": []
   },
   "outputs": [],
   "source": [
    "HOME_DIRECTORY=/gpfs/home/wwh23wcu\n",
    "SCRATCH_DIRECTORY=/gpfs/scratch/wwh23wcu\n",
    "\n",
    "REF_FASTA=$SCRATCH_DIRECTORY/ref_fasta/GCA_001643735.4_ASM164373v4_genomic.fna.gz\n",
    "JOB_OUTPUT=$SCRATCH_DIRECTORY/job_output/AddOrReplaceReadGroups\n",
    "JOB_NAME=AddOrReplaceReadGroups\n",
    "\n",
    "\n",
    "echo '#!/bin/bash -e\n",
    "#SBATCH --mail-type=ALL #Mail events (NONE, BEGIN, END, FAIL, ALL) \n",
    "#SBATCH --mail-user=papilio.chen@gmail.com #Where to send mail\n",
    "#SBATCH -p compute-24-96\n",
    "#SBATCH --mem=6G\n",
    "#SBATCH --time=0-12:00\n",
    "#SBATCH --job-name='$JOB_NAME'\n",
    "#SBATCH -o '$JOB_OUTPUT'/'$JOB_NAME'-%j.out\n",
    "#SBATCH -e '$JOB_OUTPUT'/'$JOB_NAME'-%j.err\n",
    "\n",
    "#ABOVE THIS LINE ARE THE SLURM DIRECTIVES\n",
    "#BELOW THIS LINE ARE THE COMMANDS TO RUN YOUR JOB\n",
    "\n",
    "input_file=$1\n",
    "\n",
    "module load java/jdk1.8.0_231\n",
    "module load picard/2.24.1\n",
    "\n",
    "java -jar /gpfs/software/ada/picard/2.24.1/picard.jar AddOrReplaceReadGroups I='$SCRATCH_DIRECTORY'/bam_files/$(basename $input_file)_viewed_marked.bam  O='$SCRATCH_DIRECTORY'/bam_files/$(basename $input_file)_viewed_marked_addg.bam RGID=$(basename $input_file) RGLB=lib1 RGPL=illumina_TruSeq RGSM=$(basename $input_file) RGPU=unit1\n",
    "\n",
    "' > $HOME_DIRECTORY/scripts/AddOrReplaceReadGroups.sh\n",
    "\n",
    "\n",
    "\n",
    "less $HOME_DIRECTORY/fastq_list | while read a b c; do printf \"\n",
    "sbatch $HOME_DIRECTORY/scripts/AddOrReplaceReadGroups.sh \"$c\"\n",
    "\"; done > $HOME_DIRECTORY/scripts/AddOrReplaceReadGroups_submit_jobs\n",
    "\n",
    "# sh -e $HOME_DIRECTORY/scripts/AddOrReplaceReadGroups_submit_jobs\n",
    "\n",
    "\n",
    "\n"
   ]
  },
  {
   "cell_type": "markdown",
   "id": "4dab68ad-298b-42db-9745-cedf9e91cf8e",
   "metadata": {
    "tags": []
   },
   "source": [
    "<a id=\"18\"></a> \n",
    "### Index the bam files"
   ]
  },
  {
   "cell_type": "code",
   "execution_count": null,
   "id": "c718cae5-1e6c-4928-8eae-dfdd30ea0cf3",
   "metadata": {
    "tags": []
   },
   "outputs": [],
   "source": [
    "HOME_DIRECTORY=/gpfs/home/wwh23wcu\n",
    "SCRATCH_DIRECTORY=/gpfs/scratch/wwh23wcu\n",
    "\n",
    "REF_FASTA=$SCRATCH_DIRECTORY/ref_fasta/GCA_001643735.4_ASM164373v4_genomic.fna.gz\n",
    "JOB_OUTPUT=$SCRATCH_DIRECTORY/job_output/samtools_index\n",
    "JOB_NAME=samtools_index_bam\n",
    "\n",
    "\n",
    "echo '#!/bin/bash -e\n",
    "#SBATCH --mail-type=ALL #Mail events (NONE, BEGIN, END, FAIL, ALL) \n",
    "#SBATCH --mail-user=papilio.chen@gmail.com #Where to send mail\n",
    "#SBATCH -p compute-24-96\n",
    "#SBATCH --mem=6G\n",
    "#SBATCH --time=0-01:00\n",
    "#SBATCH --job-name='$JOB_NAME'\n",
    "#SBATCH -o '$JOB_OUTPUT'/'$JOB_NAME'-%j.out\n",
    "#SBATCH -e '$JOB_OUTPUT'/'$JOB_NAME'-%j.err\n",
    "\n",
    "#ABOVE THIS LINE ARE THE SLURM DIRECTIVES\n",
    "#BELOW THIS LINE ARE THE COMMANDS TO RUN YOUR JOB\n",
    "\n",
    "input_file=$1\n",
    "\n",
    "module load samtools/1.16.1\n",
    "\n",
    "samtools index '$SCRATCH_DIRECTORY'/bam_files/$(basename $input_file)_viewed_marked_addg.bam \n",
    "\n",
    "' > $HOME_DIRECTORY/scripts/samtools_index.sh\n",
    "\n",
    "\n",
    "\n",
    "less $HOME_DIRECTORY/fastq_list | while read a b c; do printf \"\n",
    "sbatch $HOME_DIRECTORY/scripts/samtools_index.sh \"$c\"\n",
    "\"; done > $HOME_DIRECTORY/scripts/samtools_index_submit_jobs\n",
    "\n",
    "# sh -e $HOME_DIRECTORY/scripts/samtools_index_submit_jobs\n",
    "\n"
   ]
  }
 ],
 "metadata": {
  "kernelspec": {
   "display_name": "Bash",
   "language": "bash",
   "name": "bash"
  },
  "language_info": {
   "name": ""
  }
 },
 "nbformat": 4,
 "nbformat_minor": 5
}
